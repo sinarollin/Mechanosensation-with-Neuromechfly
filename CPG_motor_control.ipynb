{
 "cells": [
  {
   "cell_type": "markdown",
   "metadata": {},
   "source": [
    "## CPG"
   ]
  },
  {
   "cell_type": "code",
   "execution_count": 3,
   "metadata": {},
   "outputs": [],
   "source": [
    "from flygym.mujoco.arena import BaseArena, FlatTerrain, GappedTerrain, BlocksTerrain, MixedTerrain\n",
    "from flygym.mujoco.examples.obstacle_arena import ObstacleOdorArena\n",
    "from flygym.mujoco.examples.turning_controller import HybridTurningNMF\n",
    "\n",
    "from gymnasium.utils.env_checker import check_env\n",
    "\n",
    "from IPython.display import Video\n",
    "import numpy as np\n",
    "import pickle\n",
    "import matplotlib.pyplot as plt\n",
    "from pathlib import Path\n",
    "from tqdm import trange\n",
    "\n",
    "import flygym.common\n",
    "import flygym.mujoco\n",
    "import flygym.mujoco.preprogrammed\n",
    "from flygym.mujoco import Parameters\n",
    "from flygym.mujoco.arena import FlatTerrain"
   ]
  },
  {
   "cell_type": "code",
   "execution_count": 8,
   "metadata": {},
   "outputs": [],
   "source": [
    "import numpy as np\n",
    "\n",
    "\n",
    "def calculate_ddt(theta, r, w, phi, nu, R, alpha):\n",
    "    \"\"\"Given the current state variables theta, r and network parameters\n",
    "    w, phi, nu, R, alpha, calculate the time derivatives of theta and r.\"\"\"\n",
    "    intrinsic_term = 2 * np.pi * nu\n",
    "    phase_diff = theta[np.newaxis, :] - theta[:, np.newaxis]\n",
    "    coupling_term = (r * w * np.sin(phase_diff - phi)).sum(axis=1)\n",
    "    dtheta_dt = intrinsic_term + coupling_term\n",
    "    dr_dt = alpha * (R - r)\n",
    "    return dtheta_dt, dr_dt\n",
    "\n",
    "class CPGNetwork:\n",
    "    def __init__(\n",
    "        self,\n",
    "        timestep,\n",
    "        intrinsic_freqs,\n",
    "        intrinsic_amps,\n",
    "        coupling_weights,\n",
    "        phase_biases,\n",
    "        convergence_coefs,\n",
    "        init_phases=None,\n",
    "        init_magnitudes=None,\n",
    "        seed=0,\n",
    "    ) -> None:\n",
    "        \"\"\"Initialize a CPG network consisting of N oscillators.\n",
    "\n",
    "        Parameters\n",
    "        ----------\n",
    "        timestep : float\n",
    "            The timestep of the simulation.\n",
    "        intrinsic_frequencies : np.ndarray\n",
    "            The intrinsic frequencies of the oscillators, shape (N,).\n",
    "        intrinsic_amplitudes : np.ndarray\n",
    "            The intrinsic amplitude of the oscillators, shape (N,).\n",
    "        coupling_weights : np.ndarray\n",
    "            The coupling weights between the oscillators, shape (N, N).\n",
    "        phase_biases : np.ndarray\n",
    "            The phase biases between the oscillators, shape (N, N).\n",
    "        convergence_coefs : np.ndarray\n",
    "            Coefficients describing the rate of convergence to oscillator\n",
    "            intrinsic amplitudes, shape (N,).\n",
    "        init_phases : np.ndarray, optional\n",
    "            Initial phases of the oscillators, shape (N,). The phases are\n",
    "            randomly initialized if not provided.        init_magnitudes : np.ndarray, optional\n",
    "            Initial magnitudes of the oscillators, shape (N,). The\n",
    "            magnitudes are randomly initialized if not provided.\n",
    "        seed : int, optional\n",
    "            The random seed to use for initializing the phases and\n",
    "            magnitudes.\n",
    "        \"\"\"\n",
    "        self.timestep = timestep\n",
    "        self.num_cpgs = intrinsic_freqs.size\n",
    "        self.intrinsic_freqs = intrinsic_freqs\n",
    "        self.intrinsic_amps = intrinsic_amps\n",
    "        self.coupling_weights = coupling_weights\n",
    "        self.phase_biases = phase_biases\n",
    "        self.convergence_coefs = convergence_coefs\n",
    "        self.random_state = np.random.RandomState(seed)\n",
    "\n",
    "        self.reset(init_phases, init_magnitudes)\n",
    "\n",
    "        # Check if the parameters have the right shape\n",
    "        assert intrinsic_freqs.shape == (self.num_cpgs,)\n",
    "        assert coupling_weights.shape == (self.num_cpgs, self.num_cpgs)\n",
    "        assert phase_biases.shape == (self.num_cpgs, self.num_cpgs)\n",
    "        assert convergence_coefs.shape == (self.num_cpgs,)\n",
    "        assert self.curr_phases.shape == (self.num_cpgs,)\n",
    "        assert self.curr_magnitudes.shape == (self.num_cpgs,)\n",
    "\n",
    "    def step(self):\n",
    "        \"\"\"Integrate the ODEs using Euler's method.\"\"\"\n",
    "        dtheta_dt, dr_dt = calculate_ddt(\n",
    "            theta=self.curr_phases,\n",
    "            r=self.curr_magnitudes,\n",
    "            w=self.coupling_weights,\n",
    "            phi=self.phase_biases,\n",
    "            nu=self.intrinsic_freqs,\n",
    "            R=self.intrinsic_amps,\n",
    "            alpha=self.convergence_coefs,\n",
    "        )\n",
    "        self.curr_phases += dtheta_dt * self.timestep\n",
    "        self.curr_magnitudes += dr_dt * self.timestep\n",
    "\n",
    "    def reset(self, init_phases=None, init_magnitudes=None):\n",
    "        \"\"\"Reset the phases and magnitudes of the oscillators.\"\"\"\n",
    "        if init_phases is None:\n",
    "            self.curr_phases = self.random_state.random(self.num_cpgs) * 2 * np.pi\n",
    "        else:\n",
    "            self.curr_phases = init_phases\n",
    "\n",
    "        if init_magnitudes is None:\n",
    "            self.curr_magnitudes = (\n",
    "                self.random_state.random(self.num_cpgs) * self.intrinsic_amps\n",
    "            )\n",
    "        else:\n",
    "            self.curr_magnitudes = init_magnitudes"
   ]
  },
  {
   "cell_type": "markdown",
   "metadata": {},
   "source": [
    "## Kinematics"
   ]
  },
  {
   "cell_type": "code",
   "execution_count": 10,
   "metadata": {},
   "outputs": [
    {
     "ename": "FileNotFoundError",
     "evalue": "[Errno 2] No such file or directory: 'c:\\\\users\\\\katla\\\\onedrive\\\\dokumenter\\\\skoli\\\\ntnu\\\\epfl\\\\controlling behaviour in animals and robots\\\\flygym\\\\flygym\\\\data\\\\behavior\\\\single_steps.pkl'",
     "output_type": "error",
     "traceback": [
      "\u001b[1;31m---------------------------------------------------------------------------\u001b[0m",
      "\u001b[1;31mFileNotFoundError\u001b[0m                         Traceback (most recent call last)",
      "Cell \u001b[1;32mIn[10], line 6\u001b[0m\n\u001b[0;32m      4\u001b[0m single_steps_path \u001b[38;5;241m=\u001b[39m \u001b[38;5;124m\"\u001b[39m\u001b[38;5;124m./data/single_steps_untethered.pkl\u001b[39m\u001b[38;5;124m\"\u001b[39m\n\u001b[0;32m      5\u001b[0m single_steps_path \u001b[38;5;241m=\u001b[39m get_data_path(\u001b[38;5;124m\"\u001b[39m\u001b[38;5;124mflygym\u001b[39m\u001b[38;5;124m\"\u001b[39m, \u001b[38;5;124m\"\u001b[39m\u001b[38;5;124mdata\u001b[39m\u001b[38;5;124m\"\u001b[39m) \u001b[38;5;241m/\u001b[39m \u001b[38;5;124m\"\u001b[39m\u001b[38;5;124mbehavior/single_steps.pkl\u001b[39m\u001b[38;5;124m\"\u001b[39m\n\u001b[1;32m----> 6\u001b[0m \u001b[38;5;28;01mwith\u001b[39;00m \u001b[38;5;28;43mopen\u001b[39;49m\u001b[43m(\u001b[49m\u001b[43msingle_steps_path\u001b[49m\u001b[43m,\u001b[49m\u001b[43m \u001b[49m\u001b[38;5;124;43m\"\u001b[39;49m\u001b[38;5;124;43mrb\u001b[39;49m\u001b[38;5;124;43m\"\u001b[39;49m\u001b[43m)\u001b[49m \u001b[38;5;28;01mas\u001b[39;00m f:\n\u001b[0;32m      7\u001b[0m     single_steps_data \u001b[38;5;241m=\u001b[39m pickle\u001b[38;5;241m.\u001b[39mload(f)\n",
      "File \u001b[1;32mc:\\Users\\katla\\miniconda3\\envs\\flygym\\Lib\\site-packages\\IPython\\core\\interactiveshell.py:310\u001b[0m, in \u001b[0;36m_modified_open\u001b[1;34m(file, *args, **kwargs)\u001b[0m\n\u001b[0;32m    303\u001b[0m \u001b[38;5;28;01mif\u001b[39;00m file \u001b[38;5;129;01min\u001b[39;00m {\u001b[38;5;241m0\u001b[39m, \u001b[38;5;241m1\u001b[39m, \u001b[38;5;241m2\u001b[39m}:\n\u001b[0;32m    304\u001b[0m     \u001b[38;5;28;01mraise\u001b[39;00m \u001b[38;5;167;01mValueError\u001b[39;00m(\n\u001b[0;32m    305\u001b[0m         \u001b[38;5;124mf\u001b[39m\u001b[38;5;124m\"\u001b[39m\u001b[38;5;124mIPython won\u001b[39m\u001b[38;5;124m'\u001b[39m\u001b[38;5;124mt let you open fd=\u001b[39m\u001b[38;5;132;01m{\u001b[39;00mfile\u001b[38;5;132;01m}\u001b[39;00m\u001b[38;5;124m by default \u001b[39m\u001b[38;5;124m\"\u001b[39m\n\u001b[0;32m    306\u001b[0m         \u001b[38;5;124m\"\u001b[39m\u001b[38;5;124mas it is likely to crash IPython. If you know what you are doing, \u001b[39m\u001b[38;5;124m\"\u001b[39m\n\u001b[0;32m    307\u001b[0m         \u001b[38;5;124m\"\u001b[39m\u001b[38;5;124myou can use builtins\u001b[39m\u001b[38;5;124m'\u001b[39m\u001b[38;5;124m open.\u001b[39m\u001b[38;5;124m\"\u001b[39m\n\u001b[0;32m    308\u001b[0m     )\n\u001b[1;32m--> 310\u001b[0m \u001b[38;5;28;01mreturn\u001b[39;00m \u001b[43mio_open\u001b[49m\u001b[43m(\u001b[49m\u001b[43mfile\u001b[49m\u001b[43m,\u001b[49m\u001b[43m \u001b[49m\u001b[38;5;241;43m*\u001b[39;49m\u001b[43margs\u001b[49m\u001b[43m,\u001b[49m\u001b[43m \u001b[49m\u001b[38;5;241;43m*\u001b[39;49m\u001b[38;5;241;43m*\u001b[39;49m\u001b[43mkwargs\u001b[49m\u001b[43m)\u001b[49m\n",
      "\u001b[1;31mFileNotFoundError\u001b[0m: [Errno 2] No such file or directory: 'c:\\\\users\\\\katla\\\\onedrive\\\\dokumenter\\\\skoli\\\\ntnu\\\\epfl\\\\controlling behaviour in animals and robots\\\\flygym\\\\flygym\\\\data\\\\behavior\\\\single_steps.pkl'"
     ]
    }
   ],
   "source": [
    "import pickle\n",
    "from flygym.common import get_data_path\n",
    "\n",
    "single_steps_path = \"./data/single_steps_untethered.pkl\"\n",
    "single_steps_path = get_data_path(\"flygym\", \"data\") / \"behavior/single_steps.pkl\"\n",
    "with open(single_steps_path, \"rb\") as f:\n",
    "    single_steps_data = pickle.load(f)"
   ]
  },
  {
   "cell_type": "markdown",
   "metadata": {},
   "source": [
    "Initializing simulation"
   ]
  },
  {
   "cell_type": "code",
   "execution_count": 9,
   "metadata": {},
   "outputs": [
    {
     "name": "stderr",
     "output_type": "stream",
     "text": [
      "  0%|          | 0/10000 [00:00<?, ?it/s]\n"
     ]
    },
    {
     "ename": "NameError",
     "evalue": "name 'legs' is not defined",
     "output_type": "error",
     "traceback": [
      "\u001b[1;31m---------------------------------------------------------------------------\u001b[0m",
      "\u001b[1;31mNameError\u001b[0m                                 Traceback (most recent call last)",
      "Cell \u001b[1;32mIn[9], line 48\u001b[0m\n\u001b[0;32m     46\u001b[0m cpg_network\u001b[38;5;241m.\u001b[39mstep()\n\u001b[0;32m     47\u001b[0m joints_angles \u001b[38;5;241m=\u001b[39m {}\n\u001b[1;32m---> 48\u001b[0m \u001b[38;5;28;01mfor\u001b[39;00m i, leg \u001b[38;5;129;01min\u001b[39;00m \u001b[38;5;28menumerate\u001b[39m(\u001b[43mlegs\u001b[49m):\n\u001b[0;32m     49\u001b[0m     psi \u001b[38;5;241m=\u001b[39m psi_funcs[leg](cpg_network\u001b[38;5;241m.\u001b[39mcurr_phases[i])\n\u001b[0;32m     50\u001b[0m     psi_0 \u001b[38;5;241m=\u001b[39m psi_funcs[leg](\u001b[38;5;241m0\u001b[39m)\n",
      "\u001b[1;31mNameError\u001b[0m: name 'legs' is not defined"
     ]
    }
   ],
   "source": [
    "import flygym.mujoco\n",
    "import flygym.mujoco.preprogrammed\n",
    "\n",
    "run_time = 1\n",
    "sim_params = flygym.mujoco.Parameters(\n",
    "    timestep=1e-4, render_mode=\"saved\", render_playspeed=0.1, draw_contacts=False\n",
    ")\n",
    "nmf = flygym.mujoco.NeuroMechFly(\n",
    "    sim_params=sim_params,\n",
    "    init_pose=\"stretch\",\n",
    "    actuated_joints=flygym.mujoco.preprogrammed.all_leg_dofs,\n",
    "    control=\"position\",\n",
    ")\n",
    "\n",
    "## Initialize CPG\n",
    "intrinsic_freqs = np.ones(6) * 12\n",
    "intrinsic_amps = np.ones(6) * 1\n",
    "phase_biases = np.pi * np.array(\n",
    "    [\n",
    "        [0, 1, 0, 1, 0, 1],\n",
    "        [1, 0, 1, 0, 1, 0],\n",
    "        [0, 1, 0, 1, 0, 1],\n",
    "        [1, 0, 1, 0, 1, 0],\n",
    "        [0, 1, 0, 1, 0, 1],\n",
    "        [1, 0, 1, 0, 1, 0],\n",
    "    ]\n",
    ")\n",
    "coupling_weights = (phase_biases > 0) * 10\n",
    "convergence_coefs = np.ones(6) * 20\n",
    "\n",
    "cpg_network = CPGNetwork(\n",
    "    timestep=1e-4,\n",
    "    intrinsic_freqs=intrinsic_freqs,\n",
    "    intrinsic_amps=intrinsic_amps,\n",
    "    coupling_weights=coupling_weights,\n",
    "    phase_biases=phase_biases,\n",
    "    convergence_coefs=convergence_coefs,\n",
    ")\n",
    "\n",
    "## Run simulation\n",
    "from tqdm import trange\n",
    "from IPython import display\n",
    "\n",
    "obs, info = nmf.reset()\n",
    "for i in trange(int(run_time / sim_params.timestep)):\n",
    "    cpg_network.step()\n",
    "    joints_angles = {}\n",
    "    for i, leg in enumerate(legs):\n",
    "        psi = psi_funcs[leg](cpg_network.curr_phases[i])\n",
    "        psi_0 = psi_funcs[leg](0)\n",
    "        adjusted_psi = psi_0 + cpg_network.curr_magnitudes[i] * (psi - psi_0)\n",
    "        for dof, angle in zip(dofs_per_leg, adjusted_psi):\n",
    "            joints_angles[f\"joint_{leg}{dof}\"] = angle\n",
    "    action = {\"joints\": np.array([joints_angles[dof] for dof in nmf.actuated_joints])}\n",
    "    obs, reward, terminated, truncated, info = nmf.step(action)\n",
    "    nmf.render()\n",
    "\n",
    "nmf.save_video(\"./outputs/cpg_controller.mp4\")\n",
    "display.Video(\"./outputs/cpg_controller.mp4\")"
   ]
  },
  {
   "cell_type": "code",
   "execution_count": null,
   "metadata": {},
   "outputs": [],
   "source": []
  }
 ],
 "metadata": {
  "kernelspec": {
   "display_name": "Python 3",
   "language": "python",
   "name": "python3"
  },
  "language_info": {
   "codemirror_mode": {
    "name": "ipython",
    "version": 3
   },
   "file_extension": ".py",
   "mimetype": "text/x-python",
   "name": "python",
   "nbconvert_exporter": "python",
   "pygments_lexer": "ipython3",
   "version": "3.11.7"
  }
 },
 "nbformat": 4,
 "nbformat_minor": 2
}
