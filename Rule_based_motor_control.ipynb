{
 "cells": [
  {
   "cell_type": "code",

   "execution_count": null,
   "metadata": {},
   "outputs": [],
   "source": []
  }
 ],
 "metadata": {
  "language_info": {
   "name": "python"
=======
   "execution_count": 1,
   "metadata": {},
   "outputs": [],
   "source": [
    "from flygym.mujoco.arena import BaseArena, FlatTerrain, GappedTerrain, BlocksTerrain, MixedTerrain\n",
    "from flygym.mujoco.examples.obstacle_arena import ObstacleOdorArena\n",
    "from flygym.mujoco.examples.turning_controller import HybridTurningNMF\n",
    "\n",
    "from gymnasium.utils.env_checker import check_env\n",
    "\n",
    "from IPython.display import Video\n",
    "import numpy as np\n",
    "import pickle\n",
    "import matplotlib.pyplot as plt\n",
    "from pathlib import Path\n",
    "from tqdm import trange\n",
    "\n",
    "import flygym.common\n",
    "import flygym.mujoco\n",
    "import flygym.mujoco.preprogrammed\n",
    "from flygym.mujoco import Parameters\n",
    "from flygym.mujoco.arena import FlatTerrain\n",
    "\n",
    "from flygym.mujoco.examples.rule_based_controller import RuleBasedSteppingCoordinator"
   ]
  },
  {
   "cell_type": "markdown",
   "metadata": {},
   "source": [
    "## Implementing the rules"
   ]
  },
  {
   "cell_type": "code",
   "execution_count": 3,
   "metadata": {},
   "outputs": [],
   "source": [
    "import networkx as nx\n",
    "\n",
    "# For each rule, the keys are the source nodes and the values are the\n",
    "# target nodes influenced by the source nodes\n",
    "edges = {\n",
    "    \"rule1\": {\"LM\": [\"LF\"], \"LH\": [\"LM\"], \"RM\": [\"RF\"], \"RH\": [\"RM\"]},\n",
    "    \"rule2\": {\n",
    "        \"LF\": [\"RF\"],\n",
    "        \"LM\": [\"RM\", \"LF\"],\n",
    "        \"LH\": [\"RH\", \"LM\"],\n",
    "        \"RF\": [\"LF\"],\n",
    "        \"RM\": [\"LM\", \"RF\"],\n",
    "        \"RH\": [\"LH\", \"RM\"],\n",
    "    },\n",
    "    \"rule3\": {\n",
    "        \"LF\": [\"RF\", \"LM\"],\n",
    "        \"LM\": [\"RM\", \"LH\"],\n",
    "        \"LH\": [\"RH\"],\n",
    "        \"RF\": [\"LF\", \"RM\"],\n",
    "        \"RM\": [\"LM\", \"RH\"],\n",
    "        \"RH\": [\"LH\"],\n",
    "    },\n",
    "}\n",
    "\n",
    "# Construct the rules graph\n",
    "rules_graph = nx.MultiDiGraph()\n",
    "for rule_type, d in edges.items():\n",
    "    for src, tgt_nodes in d.items():\n",
    "        for tgt in tgt_nodes:\n",
    "            if rule_type == \"rule1\":\n",
    "                rule_type_detailed = rule_type\n",
    "            else:\n",
    "                side = \"ipsi\" if src[0] == tgt[0] else \"contra\"\n",
    "                rule_type_detailed = f\"{rule_type}_{side}\"\n",
    "            rules_graph.add_edge(src, tgt, rule=rule_type_detailed)\n",
    "\n",
    "def filter_edges(graph, rule, src_node=None):\n",
    "    \"\"\"Return a list of edges that match the given rule and source node.\n",
    "    The edges are returned as a list of tuples (src, tgt).\"\"\"\n",
    "    return [\n",
    "        (src, tgt)\n",
    "        for src, tgt, rule_type in graph.edges(data=\"rule\")\n",
    "        if (rule_type == rule) and (src_node is None or src == src_node)\n",
    "    ]"
   ]
  },
  {
   "cell_type": "markdown",
   "metadata": {},
   "source": [
    "## Setting up Rule-based Control"
   ]
  },
  {
   "cell_type": "code",
   "execution_count": 10,
   "metadata": {},
   "outputs": [],
   "source": [
    "from flygym.mujoco.examples.rule_based_controller import RuleBasedSteppingCoordinator\n",
    "from flygym.mujoco.examples.rule_based_controller import PreprogrammedSteps\n",
    "\n",
    "preprogrammed_steps = PreprogrammedSteps()\n",
    "run_time = 1\n",
    "timestep = 1e-4\n",
    "\n",
    "weights = {\n",
    "    \"rule1\": -10,\n",
    "    \"rule2_ipsi\": 2.5,\n",
    "    \"rule2_contra\": 1,\n",
    "    \"rule3_ipsi\": 3.0,\n",
    "    \"rule3_contra\": 2.0,\n",
    "}\n"
   ]
  },
  {
   "cell_type": "markdown",
   "metadata": {},
   "source": [
    "## Setting up the simulation"
   ]
  },
  {
   "cell_type": "code",
   "execution_count": 13,
   "metadata": {},
   "outputs": [],
   "source": [
    "import flygym.mujoco\n",
    "from tqdm import trange\n",
    "\n",
    "# We start by creating a simple arena\n",
    "flat_terrain_arena = FlatTerrain()\n",
    "\n",
    "# Then, we add visual and olfactory features on top of it\n",
    "arena = ObstacleOdorArena(\n",
    "    terrain=flat_terrain_arena,\n",
    "    obstacle_positions=np.array([(7.5, 0), (12.5, 5), (17.5, -5)]),\n",
    "    marker_size=0.5,\n",
    "    obstacle_colors=[(0.14, 0.14, 0.2, 1), (0.2, 0.8, 0.2, 1), (0.2, 0.2, 0.8, 1)],\n",
    "    user_camera_settings=((13, -18, 9), (np.deg2rad(65), 0, 0), 45),\n",
    ")\n",
    "\n",
    "controller = RuleBasedSteppingCoordinator(\n",
    "    timestep=timestep,\n",
    "    rules_graph=rules_graph,\n",
    "    weights=weights,\n",
    "    preprogrammed_steps=preprogrammed_steps,\n",
    ")\n",
    "\n",
    "run_time = 1\n",
    "sim_params = flygym.mujoco.Parameters(\n",
    "    timestep=1e-4, \n",
    "    render_mode=\"saved\", \n",
    "    render_playspeed=0.1, \n",
    "    draw_contacts=False,\n",
    "    render_camera=\"user_cam\"\n",
    ")\n",
    "\n",
    "nmf = flygym.mujoco.NeuroMechFly(\n",
    "    sim_params=sim_params,\n",
    "    init_pose=\"stretch\",\n",
    "    spawn_pos=(13, -5, 0.2),\n",
    "    spawn_orientation=(0, 0, np.pi / 2 + np.deg2rad(70)),\n",
    "    actuated_joints=flygym.mujoco.preprogrammed.all_leg_dofs,\n",
    "    control=\"position\",\n",
    "    arena=arena\n",
    ")\n",
    "\n"
   ]
  },
  {
   "cell_type": "markdown",
   "metadata": {},
   "source": [
    "## Running simulation"
   ]
  },
  {
   "cell_type": "code",
   "execution_count": 14,
   "metadata": {},
   "outputs": [
    {
     "name": "stderr",
     "output_type": "stream",
     "text": [
      "100%|██████████| 10000/10000 [00:46<00:00, 214.81it/s]\n"
     ]
    }
   ],
   "source": [
    "obs, info = nmf.reset()\n",
    "for i in trange(int(run_time / sim_params.timestep)):\n",
    "    controller.step()\n",
    "    joint_angles = []\n",
    "    adhesion_onoff = []\n",
    "    for leg, phase in zip(controller.legs, controller.leg_phases):\n",
    "        joint_angles_arr = preprogrammed_steps.get_joint_angles(leg, phase)\n",
    "        joint_angles.append(joint_angles_arr.flatten())\n",
    "        adhesion_onoff.append(preprogrammed_steps.get_adhesion_onoff(leg, phase))\n",
    "    action = {\n",
    "        \"joints\": np.concatenate(joint_angles),\n",
    "        \"adhesion\": np.array(adhesion_onoff),\n",
    "    }\n",
    "    obs, reward, terminated, truncated, info = nmf.step(action)\n",
    "    nmf.render()"
   ]
  },
  {
   "cell_type": "code",
   "execution_count": 15,
   "metadata": {},
   "outputs": [
    {
     "data": {
      "text/html": [
       "<video src=\"./outputs/rule_based_controller.mp4\" controls  >\n",
       "      Your browser does not support the <code>video</code> element.\n",
       "    </video>"
      ],
      "text/plain": [
       "<IPython.core.display.Video object>"
      ]
     },
     "execution_count": 15,
     "metadata": {},
     "output_type": "execute_result"
    }
   ],
   "source": [
    "from IPython import display\n",
    "\n",
    "nmf.save_video(\"./outputs/rule_based_controller.mp4\")\n",
    "display.Video(\"./outputs/rule_based_controller.mp4\")"
   ]
  }
 ],
 "metadata": {
  "kernelspec": {
   "display_name": "Python 3",
   "language": "python",
   "name": "python3"
  },
  "language_info": {
   "codemirror_mode": {
    "name": "ipython",
    "version": 3
   },
   "file_extension": ".py",
   "mimetype": "text/x-python",
   "name": "python",
   "nbconvert_exporter": "python",
   "pygments_lexer": "ipython3",
   "version": "3.11.7"

  }
 },
 "nbformat": 4,
 "nbformat_minor": 2
}
