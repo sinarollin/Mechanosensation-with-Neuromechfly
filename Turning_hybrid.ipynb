{
 "cells": [
  {
   "cell_type": "markdown",
   "metadata": {},
   "source": [
    "## Hybrid turning approach"
   ]
  },
  {
   "cell_type": "code",
   "execution_count": 10,
   "metadata": {},
   "outputs": [],
   "source": [
    "import matplotlib.pyplot as plt\n",
    "import numpy as np\n",
    "from tqdm import trange\n",
    "from gymnasium.utils.env_checker import check_env\n",
    "from IPython.display import Video\n",
    "from enum import Enum, auto\n",
    "\n",
    "from flygym.mujoco import Parameters\n",
    "from flygym.mujoco.arena import FlatTerrain\n",
    "from flygym.mujoco.examples.obstacle_arena import ObstacleOdorArena\n",
    "from flygym.mujoco.examples.turning_controller import HybridTurningNMF"
   ]
  },
  {
   "cell_type": "markdown",
   "metadata": {},
   "source": [
    "## Setting up the simulation"
   ]
  },
  {
   "cell_type": "code",
   "execution_count": 11,
   "metadata": {},
   "outputs": [],
   "source": [
    "import flygym.mujoco\n",
    "from tqdm import trange\n",
    "\n",
    "# We start by creating a simple arena\n",
    "flat_terrain_arena = FlatTerrain()\n",
    "\n",
    "# Then, we add visual and olfactory features on top of it\n",
    "arena = ObstacleOdorArena(\n",
    "    terrain=flat_terrain_arena,\n",
    "    obstacle_positions=np.array([(7.5, 0), (12.5, 5), (17.5, -5)]),\n",
    "    marker_size=0.5,\n",
    "    obstacle_colors=[(0.14, 0.14, 0.2, 1), (0.2, 0.8, 0.2, 1), (0.2, 0.2, 0.8, 1)],\n",
    "    user_camera_settings=((13, -18, 9), (np.deg2rad(65), 0, 0), 45),\n",
    ")\n",
    "\n",
    "contact_sensor_placements = [\n",
    "    f\"{leg}{segment}\"\n",
    "    for leg in [\"LF\", \"LM\", \"LH\", \"RF\", \"RM\", \"RH\"]\n",
    "    for segment in [\"Tibia\", \"Tarsus1\", \"Tarsus2\", \"Tarsus3\", \"Tarsus4\", \"Tarsus5\"]\n",
    "]\n",
    "\n",
    "run_time = 1\n",
    "sim_params = flygym.mujoco.Parameters(\n",
    "    timestep=1e-4, \n",
    "    render_mode=\"saved\", \n",
    "    render_playspeed=0.1, \n",
    "    draw_contacts=False,\n",
    "    render_camera=\"user_cam\"\n",
    ")\n",
    "\n",
    "nmf = HybridTurningNMF(\n",
    "    sim_params=sim_params,\n",
    "    init_pose=\"stretch\",\n",
    "    spawn_pos=(13, -5, 0.2),\n",
    "    spawn_orientation=(0, 0, np.pi / 2 + np.deg2rad(70)),\n",
    "    contact_sensor_placements=contact_sensor_placements,\n",
    "    arena=arena\n",
    ")\n"
   ]
  },
  {
   "cell_type": "markdown",
   "metadata": {},
   "source": [
    "## Running simulation with turning\n"
   ]
  },
  {
   "cell_type": "code",
   "execution_count": 17,
   "metadata": {},
   "outputs": [
    {
     "name": "stderr",
     "output_type": "stream",
     "text": [
      "100%|██████████| 20000/20000 [02:13<00:00, 150.34it/s]\n"
     ]
    },
    {
     "data": {
      "text/html": [
       "<video src=\"./outputs/pillars.mp4\" controls  >\n",
       "      Your browser does not support the <code>video</code> element.\n",
       "    </video>"
      ],
      "text/plain": [
       "<IPython.core.display.Video object>"
      ]
     },
     "execution_count": 17,
     "metadata": {},
     "output_type": "execute_result"
    }
   ],
   "source": [
    "from enum import Enum, auto\n",
    "\n",
    "# random state seed for reproducibility\n",
    "seed = 1\n",
    "\n",
    "class State(Enum):\n",
    "    GO_STRAIGHT = 1\n",
    "    TURN_LEFT = 2\n",
    "    TURN_RIGHT = 3\n",
    "    REVERSE_LEFT = 4\n",
    "    REVERSE_RIGHT = 5\n",
    "    REACH_AND_TURN = 6\n",
    "\n",
    "# Example of setting a current state\n",
    "current_state = State.GO_STRAIGHT\n",
    "\n",
    "decision_interval = 0.2\n",
    "run_time = 2\n",
    "num_decision_steps = int(run_time / decision_interval)\n",
    "physics_steps_per_decision_step = int(decision_interval / sim_params.timestep)\n",
    "\n",
    "low_force_thresh = 1\n",
    "high_force_thresh = 3\n",
    "enforce_time = 0\n",
    "delay = 0.2\n",
    "\n",
    "obs_hist = []\n",
    "odor_history = []\n",
    "obs, _ = nmf.reset(seed)\n",
    "bias = np.array([0,0])\n",
    "for i in trange(int(run_time / nmf.sim_params.timestep)):\n",
    "    curr_time = i * nmf.sim_params.timestep\n",
    "    left_sense = np.array(obs[\"contact_forces\"][:5, 0:2])\n",
    "    right_sense = np.array(obs[\"contact_forces\"][18:23, 0:2])\n",
    "    left_sense_sum = left_sense.sum()\n",
    "    right_sense_sum = right_sense.sum()\n",
    "\n",
    "    if right_sense_sum > low_force_thresh:\n",
    "        if current_state == State.GO_STRAIGHT:\n",
    "            if right_sense_sum > high_force_thresh:\n",
    "                current_state = State.REVERSE_LEFT\n",
    "                # reverse while turning left function\n",
    "            else:\n",
    "                current_state = State.TURN_LEFT\n",
    "                bias = np.array([-2, 0])\n",
    "        elif current_state == State.TURN_LEFT:\n",
    "            current_state = State.REVERSE_LEFT\n",
    "            # reverse while turning left function\n",
    "        elif current_state == State.REVERSE_LEFT:\n",
    "            # reverse while turning left function\n",
    "            trash = 0\n",
    "        elif current_state == State.TURN_RIGHT or current_state == State.REVERSE_RIGHT:\n",
    "            current_state == State.REACH_AND_TURN\n",
    "            # call reach and turn function\n",
    "        enforce_time =  curr_time + delay\n",
    "    elif left_sense_sum > low_force_thresh:\n",
    "        if current_state == State.GO_STRAIGHT:\n",
    "            if left_sense_sum > high_force_thresh:\n",
    "                current_state = State.REVERSE_RIGHT\n",
    "                # reverse while turning right function\n",
    "            else:\n",
    "                current_state = State.TURN_RIGHT\n",
    "                bias = np.array([0, -2])\n",
    "        elif current_state == State.TURN_LEFT or current_state == State.REVERSE_LEFT:\n",
    "            current_state == State.REACH_AND_TURN\n",
    "            # call reach and turn function\n",
    "        elif current_state == State.TURN_RIGHT:\n",
    "            current_state = State.REVERSE_RIGHT\n",
    "            # reverse while turning right function\n",
    "        elif current_state == State.REACH_AND_TURN:\n",
    "            # reverse while turning left function\n",
    "            trash = 0\n",
    "        enforce_time =  curr_time + delay\n",
    "    elif curr_time >= enforce_time:\n",
    "        current_state = State.GO_STRAIGHT\n",
    "        bias = np.array([0,0])\n",
    "    \n",
    "    control_signal = np.array([1, 1]) + bias\n",
    "\n",
    "    obs, reward, terminated, truncated, info = nmf.step(control_signal)\n",
    "    nmf.render()\n",
    "\n",
    "nmf.save_video(\"./outputs/pillars.mp4\")\n",
    "Video(\"./outputs/pillars.mp4\")"
   ]
  }
 ],
 "metadata": {
  "kernelspec": {
   "display_name": "Python 3",
   "language": "python",
   "name": "python3"
  },
  "language_info": {
   "codemirror_mode": {
    "name": "ipython",
    "version": 3
   },
   "file_extension": ".py",
   "mimetype": "text/x-python",
   "name": "python",
   "nbconvert_exporter": "python",
   "pygments_lexer": "ipython3",
   "version": "3.11.7"
  }
 },
 "nbformat": 4,
 "nbformat_minor": 2
}
