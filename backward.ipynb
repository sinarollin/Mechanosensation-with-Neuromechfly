{
 "cells": [
  {
   "cell_type": "code",
   "execution_count": 1,
   "metadata": {},
   "outputs": [],
   "source": [
    "from flygym.mujoco.arena import BaseArena, FlatTerrain, GappedTerrain, BlocksTerrain, MixedTerrain\n",
    "from flygym.mujoco.examples.obstacle_arena import ObstacleOdorArena\n",
    "from flygym.mujoco.examples.turning_controller import HybridTurningNMF\n",
    "\n",
    "from gymnasium.utils.env_checker import check_env\n",
    "\n",
    "from IPython.display import Video\n",
    "import numpy as np\n",
    "import pickle\n",
    "import matplotlib.pyplot as plt\n",
    "from pathlib import Path\n",
    "from tqdm import trange\n",
    "\n",
    "import flygym.common\n",
    "import flygym.mujoco\n",
    "import flygym.mujoco.preprogrammed\n",
    "from flygym.mujoco import Parameters\n",
    "from flygym.mujoco.arena import FlatTerrain\n",
    "from scipy.interpolate import interp1d\n",
    "from scipy.signal import find_peaks"
   ]
  },
  {
   "cell_type": "code",
   "execution_count": 2,
   "metadata": {},
   "outputs": [],
   "source": [
    "# code from the exercise session --> backward movement of the fly\n",
    "# just need to run it to get the data_block_backwards\n",
    "\n",
    "run_time = 2\n",
    "sim_params = flygym.mujoco.Parameters(\n",
    "    timestep=1e-4, render_mode=\"saved\", render_playspeed=0.2, draw_contacts=True\n",
    ")\n",
    "actuated_joints = flygym.mujoco.preprogrammed.all_leg_dofs\n",
    "\n",
    "data_path = flygym.common.get_data_path(\"flygym\", \"data\")\n",
    "with open(data_path / \"behavior\" / \"210902_pr_fly1.pkl\", \"rb\") as f:\n",
    "    data = pickle.load(f)\n",
    "\n",
    "target_num_steps = int(run_time / sim_params.timestep)\n",
    "data_block = np.zeros((len(actuated_joints), target_num_steps))\n",
    "input_t = np.arange(len(data[\"joint_LFCoxa\"])) * data[\"meta\"][\"timestep\"]\n",
    "output_t = np.arange(target_num_steps) * sim_params.timestep\n",
    "for i, dof in enumerate(actuated_joints):\n",
    "    data_block[i, :] = np.interp(output_t, input_t, data[dof])\n",
    "\n",
    "# get the joint angle of the right hind leg tibia\n",
    "rh_tibia_angle = data_block[actuated_joints.index(\"joint_RHTibia\")]\n",
    "\n",
    "# ===============================================================================================\n",
    "# TODO: detect peaks in the tibia angle of the right hind leg using scipy.signal.find_peaks\n",
    "# see https://docs.scipy.org/doc/scipy/reference/generated/scipy.signal.find_peaks.html for usage\n",
    "peak_frame_indices = find_peaks(rh_tibia_angle)[0]\n",
    "# ===============================================================================================\n",
    "\n",
    "cycle_n_frames = round(np.diff(peak_frame_indices).mean())\n",
    "\n",
    "data_block_cycle = np.zeros((len(actuated_joints), cycle_n_frames))\n",
    "\n",
    "for a, b in np.lib.stride_tricks.sliding_window_view(peak_frame_indices, 2):\n",
    "    old_indices = np.arange(b - a)\n",
    "    new_indices = np.linspace(0, old_indices.max(), cycle_n_frames)\n",
    "    data_block_cycle += interp1d(old_indices, data_block[:, a:b])(new_indices)\n",
    "\n",
    "data_block_cycle /= len(peak_frame_indices) - 1\n",
    "\n",
    "data_block_backwards = data_block_cycle.copy()\n",
    "# data_block_backwards = data_block_backwards[:, ::-1]  # reverse the order of the frames\n",
    "\n",
    "for i, (dof, angles) in enumerate(zip(actuated_joints, data_block_cycle)):\n",
    "    # reassign the joint angles\n",
    "    # (LF -> RH, RF -> LH, LM -> RM, RM -> LM, LH -> RF, RH -> LF)\n",
    "    orig_dof = dof.translate(str.maketrans(\"LRFH\", \"RLHF\"))[:8] + dof[8:]\n",
    "    orig_angles = data_block_cycle[actuated_joints.index(orig_dof)]\n",
    "    # rescale to match the range of the joint angles of that leg\n",
    "    data_block_backwards[i] = (\n",
    "        orig_angles - orig_angles.min()\n",
    "    ) / orig_angles.ptp() * angles.ptp() + angles.min()\n",
    "\n",
    "sim_params = flygym.mujoco.Parameters(\n",
    "    timestep=1e-4, \n",
    "    render_mode=\"saved\", \n",
    "    render_playspeed=0.1, \n",
    "    draw_contacts=False,\n",
    ")"
   ]
  },
  {
   "cell_type": "code",
   "execution_count": 3,
   "metadata": {},
   "outputs": [],
   "source": [
    "# We start by creating a simple arena\n",
    "flat_terrain_arena = FlatTerrain()\n",
    "\n",
    "# Then, we add visual and olfactory features on top of it\n",
    "arena = ObstacleOdorArena(\n",
    "    terrain=flat_terrain_arena,\n",
    "    obstacle_positions=np.array([(7.5, 0), (12.5, 5), (17.5, -5), (19,5)]),\n",
    "    marker_size=0.5,\n",
    "    obstacle_colors=[(0.14, 0.14, 0.2, 1), (0.2, 0.8, 0.2, 1), (0.2, 0.2, 0.8, 1),(0.2, 0.2, 0.8, 1)],\n",
    "    user_camera_settings=((13, -18, 9), (np.deg2rad(65), 0, 0), 45),\n",
    ")"
   ]
  },
  {
   "cell_type": "code",
   "execution_count": 4,
   "metadata": {},
   "outputs": [],
   "source": [
    "# create nmf with the backward movement\n",
    "contact_sensor_placements = [\n",
    "    f\"{leg}{segment}\"\n",
    "    for leg in [\"LF\", \"LM\", \"LH\", \"RF\", \"RM\", \"RH\"]\n",
    "    for segment in [\"Tibia\", \"Tarsus1\", \"Tarsus2\", \"Tarsus3\", \"Tarsus4\", \"Tarsus5\"]\n",
    "]\n",
    "\n",
    "nmf = HybridTurningNMF(\n",
    "    sim_params=sim_params,\n",
    "    arena=arena,\n",
    "    spawn_pos=(13, -5, 0.2),\n",
    "    spawn_orientation=(0, 0, np.pi / 2 + np.deg2rad(70)),\n",
    "    contact_sensor_placements=contact_sensor_placements,\n",
    ")"
   ]
  },
  {
   "cell_type": "code",
   "execution_count": 6,
   "metadata": {},
   "outputs": [
    {
     "name": "stderr",
     "output_type": "stream",
     "text": [
      "  0%|          | 0/20000 [00:00<?, ?it/s]"
     ]
    },
    {
     "name": "stderr",
     "output_type": "stream",
     "text": [
      "100%|██████████| 20000/20000 [01:52<00:00, 177.45it/s]\n"
     ]
    },
    {
     "data": {
      "text/html": [
       "<video src=\"./outputs/backwards_hybrid_official.mp4\" controls  >\n",
       "      Your browser does not support the <code>video</code> element.\n",
       "    </video>"
      ],
      "text/plain": [
       "<IPython.core.display.Video object>"
      ]
     },
     "execution_count": 6,
     "metadata": {},
     "output_type": "execute_result"
    }
   ],
   "source": [
    "# run the video of the backward movement\n",
    "# here you just need to add the argument move_backward=True to the nmf.step function\n",
    "# to make the fly move backward (using the original set function from NeuroMechFly Class)\n",
    "\n",
    "obs, info = nmf.reset()\n",
    "for i in trange(target_num_steps):\n",
    "    joint_pos = data_block_backwards[:, i % cycle_n_frames]\n",
    "    action = {\"joints\": joint_pos}\n",
    "    # print(\"action\", action)\n",
    "    obs, reward, terminated, truncated, info = nmf.step(action, orig=True)\n",
    "    nmf.render()\n",
    "\n",
    "nmf.save_video(\"./outputs/backwards_hybrid_official.mp4\")\n",
    "Video(\"./outputs/backwards_hybrid_official.mp4\")"
   ]
  },
  {
   "cell_type": "code",
   "execution_count": null,
   "metadata": {},
   "outputs": [],
   "source": []
  }
 ],
 "metadata": {
  "kernelspec": {
   "display_name": "flygymproject",
   "language": "python",
   "name": "python3"
  },
  "language_info": {
   "codemirror_mode": {
    "name": "ipython",
    "version": 3
   },
   "file_extension": ".py",
   "mimetype": "text/x-python",
   "name": "python",
   "nbconvert_exporter": "python",
   "pygments_lexer": "ipython3",
   "version": "3.11.8"
  }
 },
 "nbformat": 4,
 "nbformat_minor": 2
}
