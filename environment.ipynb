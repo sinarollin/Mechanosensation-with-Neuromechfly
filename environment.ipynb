{
 "cells": [
  {
   "cell_type": "code",
   "execution_count": 1,
   "metadata": {},
   "outputs": [],
   "source": [
    "import numpy as np\n",
    "import pickle\n",
    "import matplotlib.pyplot as plt\n",
    "from pathlib import Path\n",
    "from tqdm import trange\n",
    "\n",
    "import flygym.common\n",
    "import flygym.mujoco\n",
    "import flygym.mujoco.preprogrammed"
   ]
  },
  {
   "cell_type": "code",
   "execution_count": 2,
   "metadata": {},
   "outputs": [],
   "source": [
    "run_time = 1\n",
    "sim_params = flygym.mujoco.Parameters(\n",
    "    timestep=1e-4, render_mode=\"saved\", render_playspeed=0.2, draw_contacts=True\n",
    ")\n",
    "actuated_joints = flygym.mujoco.preprogrammed.all_leg_dofs"
   ]
  },
  {
   "cell_type": "code",
   "execution_count": 3,
   "metadata": {},
   "outputs": [],
   "source": [
    "data_path = flygym.common.get_data_path(\"flygym\", \"data\")\n",
    "with open(data_path / \"behavior\" / \"210902_pr_fly1.pkl\", \"rb\") as f:\n",
    "    data = pickle.load(f)\n",
    "\n",
    "target_num_steps = int(run_time / sim_params.timestep)\n",
    "data_block = np.zeros((len(actuated_joints), target_num_steps))\n",
    "input_t = np.arange(len(data[\"joint_LFCoxa\"])) * data[\"meta\"][\"timestep\"]\n",
    "output_t = np.arange(target_num_steps) * sim_params.timestep\n",
    "for i, dof in enumerate(actuated_joints):\n",
    "    data_block[i, :] = np.interp(output_t, input_t, data[dof])"
   ]
  },
  {
   "cell_type": "code",
   "execution_count": 4,
   "metadata": {},
   "outputs": [
    {
     "name": "stderr",
     "output_type": "stream",
     "text": [
      "100%|██████████| 10000/10000 [01:43<00:00, 96.64it/s]\n"
     ]
    }
   ],
   "source": [
    "nmf = flygym.mujoco.NeuroMechFly(\n",
    "    sim_params=sim_params,\n",
    "    init_pose=\"stretch\",\n",
    "    actuated_joints=actuated_joints,\n",
    "    control=\"position\",\n",
    ")\n",
    "obs, info = nmf.reset()\n",
    "for i in trange(target_num_steps):\n",
    "    # here, we simply use the recorded joint angles as the target joint angles\n",
    "    joint_pos = data_block[:, i]\n",
    "    action = {\"joints\": joint_pos}\n",
    "    obs, reward, terminated, truncated, info = nmf.step(action)\n",
    "    nmf.render()"
   ]
  },
  {
   "cell_type": "code",
   "execution_count": 5,
   "metadata": {},
   "outputs": [
    {
     "name": "stderr",
     "output_type": "stream",
     "text": [
      "100%|██████████| 10000/10000 [01:24<00:00, 117.81it/s]\n"
     ]
    }
   ],
   "source": [
    "nmf = flygym.mujoco.NeuroMechFly(\n",
    "    sim_params=sim_params,\n",
    "    init_pose=\"stretch\",\n",
    "    actuated_joints=actuated_joints,\n",
    "    control=\"position\",\n",
    ")\n",
    "obs, info = nmf.reset()\n",
    "for i in trange(target_num_steps):\n",
    "    # here, we simply use the recorded joint angles as the target joint angles\n",
    "    joint_pos = data_block[:, i]\n",
    "    action = {\"joints\": joint_pos}\n",
    "    obs, reward, terminated, truncated, info = nmf.step(action)\n",
    "    nmf.render()"
   ]
  },
  {
   "cell_type": "code",
   "execution_count": 6,
   "metadata": {},
   "outputs": [],
   "source": [
    "nmf.save_video(\"./outputs/kinematic_replay.mp4\")"
   ]
  },
  {
   "cell_type": "code",
   "execution_count": 7,
   "metadata": {},
   "outputs": [
    {
     "data": {
      "text/html": [
       "<video src=\"./outputs/kinematic_replay.mp4\" controls  >\n",
       "      Your browser does not support the <code>video</code> element.\n",
       "    </video>"
      ],
      "text/plain": [
       "<IPython.core.display.Video object>"
      ]
     },
     "execution_count": 7,
     "metadata": {},
     "output_type": "execute_result"
    }
   ],
   "source": [
    "from IPython.display import Video\n",
    "\n",
    "Video(\"./outputs/kinematic_replay.mp4\")"
   ]
  },
  {
   "cell_type": "code",
   "execution_count": 43,
   "metadata": {},
   "outputs": [],
   "source": [
    "from flygym.mujoco.arena import BaseArena, FlatTerrain, GappedTerrain, BlocksTerrain, MixedTerrain\n"
   ]
  },
  {
   "cell_type": "markdown",
   "metadata": {},
   "source": [
    "How am I suppose to create the environment with pillar ? \n",
    "\n",
    "Should I create on the fly gym by modifiying some code ?\n",
    "Or can I create one here ?\n"
   ]
  },
  {
   "cell_type": "code",
   "execution_count": 64,
   "metadata": {},
   "outputs": [],
   "source": [
    "# We start by creating a simple arena\n",
    "flat_terrain_arena = FlatTerrain()\n",
    "\n",
    "# Then, we add visual and olfactory features on top of it\n",
    "arena = ObstacleOdorArena(\n",
    "    terrain=flat_terrain_arena,\n",
    "    obstacle_positions=np.array([(7.5, 0), (12.5, 5), (17.5, -5)]),\n",
    "    marker_size=0.5,\n",
    "    obstacle_colors=[(0.14, 0.14, 0.2, 1), (0.2, 0.8, 0.2, 1), (0.2, 0.2, 0.8, 1)],\n",
    "    user_camera_settings=((13, -18, 9), (np.deg2rad(65), 0, 0), 45),\n",
    ")"
   ]
  },
  {
   "cell_type": "code",
   "execution_count": 65,
   "metadata": {},
   "outputs": [
    {
     "name": "stderr",
     "output_type": "stream",
     "text": [
      "100%|██████████| 10000/10000 [03:58<00:00, 41.86it/s]\n"
     ]
    },
    {
     "data": {
      "text/html": [
       "<video src=\"./outputs/pillars.mp4\" controls  >\n",
       "      Your browser does not support the <code>video</code> element.\n",
       "    </video>"
      ],
      "text/plain": [
       "<IPython.core.display.Video object>"
      ]
     },
     "execution_count": 65,
     "metadata": {},
     "output_type": "execute_result"
    }
   ],
   "source": [
    "from gymnasium.utils.env_checker import check_env\n",
    "\n",
    "contact_sensor_placements = [\n",
    "    f\"{leg}{segment}\"\n",
    "    for leg in [\"LF\", \"LM\", \"LH\", \"RF\", \"RM\", \"RH\"]\n",
    "    for segment in [\"Tibia\", \"Tarsus1\", \"Tarsus2\", \"Tarsus3\", \"Tarsus4\", \"Tarsus5\"]\n",
    "]\n",
    "sim_params = Parameters(\n",
    "    render_playspeed=0.2,\n",
    "    render_camera=\"user_cam\",\n",
    "    enable_vision=True,\n",
    "    render_raw_vision=True,\n",
    "    enable_olfaction=True,\n",
    ")\n",
    "nmf = HybridTurningNMF(\n",
    "    sim_params=sim_params,\n",
    "    arena=arena,\n",
    "    spawn_pos=(13, -5, 0.2),\n",
    "    spawn_orientation=(0, 0, np.pi / 2 + np.deg2rad(70)),\n",
    "    contact_sensor_placements=contact_sensor_placements,\n",
    ")\n",
    "\n",
    "# check_env(nmf)\n",
    "\n",
    "obs, info = nmf.reset()\n",
    "for i in trange(int(run_time / nmf.sim_params.timestep)):\n",
    "    curr_time = i * nmf.sim_params.timestep\n",
    "    if curr_time < 1:\n",
    "        action = np.array([1.2, 0.2])\n",
    "    else:\n",
    "        action = np.array([0.2, 1.2])\n",
    "\n",
    "    obs, reward, terminated, truncated, info = nmf.step(action)\n",
    "    nmf.render()\n",
    "\n",
    "nmf.save_video(\"./outputs/pillars.mp4\")\n",
    "Video(\"./outputs/pillars.mp4\")\n",
    "\n",
    "# for i in range(500):\n",
    "#     obs, reward, terminated, truncated, info = nmf.step(np.zeros(2))\n",
    "#     nmf.render()\n",
    "\n",
    "# fig, ax = plt.subplots(figsize=(4, 3), tight_layout=True)\n",
    "# ax.imshow(nmf._frames[-1])\n",
    "# ax.axis(\"off\")"
   ]
  },
  {
   "cell_type": "code",
   "execution_count": 57,
   "metadata": {},
   "outputs": [
    {
     "name": "stderr",
     "output_type": "stream",
     "text": [
      "WARNING:root:No frames have been rendered yet; no video will be saved despite `save_video()` call. Be sure to call `.render()` in your simulation loop.\n"
     ]
    },
    {
     "data": {
      "text/html": [
       "<video controls  >\n",
       " <source src=\"data:None;base64,./outputs/obstacles.mp4\" type=\"None\">\n",
       " Your browser does not support the video tag.\n",
       " </video>"
      ],
      "text/plain": [
       "<IPython.core.display.Video object>"
      ]
     },
     "execution_count": 57,
     "metadata": {},
     "output_type": "execute_result"
    }
   ],
   "source": [
    "obs, info = nmf.reset()\n",
    "for i in trange(target_num_steps):\n",
    "    joint_pos = data_block[:, i]\n",
    "    action = {\"joints\": joint_pos}\n",
    "    obs, reward, terminated, truncated, info = nmf.step(action)\n",
    "    nmf.render()\n",
    "\n",
    "nmf.save_video(\"./outputs/obstacles.mp4\")\n",
    "Video(\"./outputs/obstacles.mp4\")"
   ]
  },
  {
   "cell_type": "code",
   "execution_count": 50,
   "metadata": {},
   "outputs": [
    {
     "name": "stderr",
     "output_type": "stream",
     "text": [
      "100%|██████████| 10000/10000 [01:25<00:00, 116.78it/s]\n"
     ]
    }
   ],
   "source": [
    "sim_params = flygym.mujoco.Parameters(\n",
    "    timestep=1e-4,\n",
    "    render_mode=\"saved\",\n",
    "    render_playspeed=0.2,\n",
    "    draw_contacts=True,\n",
    "    # =========================================================================\n",
    "    # TODO:\n",
    "    # =========================================================================\n",
    ")\n",
    "\n",
    "arena = FlatTerrain(\n",
    "    # =========================================================================\n",
    "    # TODO: \n",
    "    # =========================================================================\n",
    ")\n",
    "\n",
    "nmf = flygym.mujoco.NeuroMechFly(\n",
    "    sim_params=sim_params,\n",
    "    init_pose=\"stretch\",\n",
    "    actuated_joints=actuated_joints,\n",
    "    control=\"position\",\n",
    "    arena=arena,\n",
    "    # spawn_pos=(0, 0, 0.2),\n",
    ")\n",
    "\n",
    "obs, info = nmf.reset()\n",
    "for i in trange(target_num_steps):\n",
    "    joint_pos = data_block[:, i]\n",
    "    action = {\"joints\": joint_pos}\n",
    "    obs, reward, terminated, truncated, info = nmf.step(action)\n",
    "    nmf.render()\n"
   ]
  },
  {
   "cell_type": "code",
   "execution_count": 33,
   "metadata": {},
   "outputs": [
    {
     "data": {
      "text/html": [
       "<video src=\"./outputs/kinematic_flatterrain_top.mp4\" controls  >\n",
       "      Your browser does not support the <code>video</code> element.\n",
       "    </video>"
      ],
      "text/plain": [
       "<IPython.core.display.Video object>"
      ]
     },
     "execution_count": 33,
     "metadata": {},
     "output_type": "execute_result"
    }
   ],
   "source": [
    "nmf.save_video(\"./outputs/kinematic_flatterrain_top.mp4\")\n",
    "Video(\"./outputs/kinematic_flatterrain_top.mp4\")"
   ]
  },
  {
   "cell_type": "code",
   "execution_count": 13,
   "metadata": {},
   "outputs": [
    {
     "name": "stderr",
     "output_type": "stream",
     "text": [
      "WARNING:root:No frames have been rendered yet; no video will be saved despite `save_video()` call. Be sure to call `.render()` in your simulation loop.\n"
     ]
    },
    {
     "data": {
      "text/html": [
       "<video src=\"./outputs/kinematic_flatterrain.mp4\" controls  >\n",
       "      Your browser does not support the <code>video</code> element.\n",
       "    </video>"
      ],
      "text/plain": [
       "<IPython.core.display.Video object>"
      ]
     },
     "execution_count": 13,
     "metadata": {},
     "output_type": "execute_result"
    }
   ],
   "source": [
    "nmf.save_video(\"./outputs/kinematic_flatterrain.mp4\")\n",
    "Video(\"./outputs/kinematic_flatterrain.mp4\")\n"
   ]
  },
  {
   "cell_type": "code",
   "execution_count": null,
   "metadata": {},
   "outputs": [],
   "source": [
    "class FlatTerrain(BaseArena):\n",
    "    \"\"\"Flat terrain with no obstacles.\n",
    "\n",
    "    Attributes\n",
    "    ----------\n",
    "    root_element : mjcf.RootElement\n",
    "        The root MJCF element of the arena.\n",
    "    friction : Tuple[float, float, float]\n",
    "        The sliding, torsional, and rolling friction coefficients of the\n",
    "        ground, by default (1, 0.005, 0.0001).\n",
    "\n",
    "    Parameters\n",
    "    ----------\n",
    "    size : Tuple[float, float], optional\n",
    "        The size of the arena in mm, by default (50, 50).\n",
    "    friction : Tuple[float, float, float]\n",
    "        The sliding, torsional, and rolling friction coefficients of the\n",
    "        ground, by default (1, 0.005, 0.0001).\n",
    "    ground_alpha : float\n",
    "        Opacity of the ground, by default 1 (fully opaque).\n",
    "    scale_bar_pos : Tuple[float, float, float], optional\n",
    "        If supplied, a 1 mm scale bar will be placed at this location.\n",
    "    \"\"\"\n",
    "\n",
    "    def __init__(\n",
    "        self,\n",
    "        size: Tuple[float, float] = (50, 50),\n",
    "        friction: Tuple[float, float, float] = (1, 0.005, 0.0001),\n",
    "        ground_alpha: float = 1.0,\n",
    "        scale_bar_pos: Optional[Tuple[float, float, float]] = None,\n",
    "    ):\n",
    "        self.root_element = mjcf.RootElement()\n",
    "        ground_size = [*size, 1]\n",
    "        chequered = self.root_element.asset.add(\n",
    "            \"texture\",\n",
    "            type=\"2d\",\n",
    "            builtin=\"checker\",\n",
    "            width=300,\n",
    "            height=300,\n",
    "            rgb1=(0.3, 0.3, 0.3),\n",
    "            rgb2=(0.4, 0.4, 0.4),\n",
    "        )\n",
    "        grid = self.root_element.asset.add(\n",
    "            \"material\",\n",
    "            name=\"grid\",\n",
    "            texture=chequered,\n",
    "            texrepeat=(10, 10),\n",
    "            reflectance=0.1,\n",
    "            rgba=(1.0, 1.0, 1.0, ground_alpha),\n",
    "        )\n",
    "        self.root_element.worldbody.add(\n",
    "            \"geom\",\n",
    "            type=\"plane\",\n",
    "            name=\"ground\",\n",
    "            material=grid,\n",
    "            size=ground_size,\n",
    "            friction=friction,\n",
    "        )\n",
    "        self.friction = friction\n",
    "        if scale_bar_pos:\n",
    "            self.root_element.worldbody.add(\n",
    "                \"geom\",\n",
    "                type=\"cylinder\",\n",
    "                size=(0.05, 0.5),\n",
    "                pos=scale_bar_pos,\n",
    "                rgba=(0, 0, 0, 1),\n",
    "                euler=(0, np.pi / 2, 0),\n",
    "            )\n",
    "\n",
    "    def get_spawn_position(\n",
    "        self, rel_pos: np.ndarray, rel_angle: np.ndarray\n",
    "    ) -> Tuple[np.ndarray, np.ndarray]:\n",
    "        return rel_pos, rel_angle"
   ]
  },
  {
   "cell_type": "code",
   "execution_count": 31,
   "metadata": {},
   "outputs": [
    {
     "name": "stderr",
     "output_type": "stream",
     "text": [
      "100%|██████████| 10000/10000 [01:32<00:00, 108.28it/s]\n"
     ]
    },
    {
     "data": {
      "text/html": [
       "<video src=\"./outputs/birdeye.mp4\" controls  >\n",
       "      Your browser does not support the <code>video</code> element.\n",
       "    </video>"
      ],
      "text/plain": [
       "<IPython.core.display.Video object>"
      ]
     },
     "execution_count": 31,
     "metadata": {},
     "output_type": "execute_result"
    }
   ],
   "source": [
    "sim_params = flygym.mujoco.Parameters(\n",
    "    timestep=1e-4,\n",
    "    render_mode=\"saved\",\n",
    "    render_playspeed=0.2,\n",
    "    draw_contacts=True,\n",
    "\n",
    "    # =========================================================================\n",
    "    # TODO:\n",
    "    # =========================================================================\n",
    ")\n",
    "\n",
    "arena = FlatTerrain(\n",
    "    # =========================================================================\n",
    "    # TODO: add 5 scales bars to the arena\n",
    "    \n",
    "    scale_bar_pos= (2.5, 2.5, 1)\n",
    "    # scale_bar_pos=[(1, 1,0.5),(1, 2,0.5), (1, 3,0.5), (1, 4,5), (1, 5,5)]\n",
    "\n",
    "    # =========================================================================\n",
    ")\n",
    "\n",
    "nmf = flygym.mujoco.NeuroMechFly(\n",
    "    sim_params=sim_params,\n",
    "    init_pose=\"stretch\",\n",
    "    actuated_joints=actuated_joints,\n",
    "    control=\"position\",\n",
    "    arena=arena,\n",
    "    # spawn_pos=(0, 0, 0.2),\n",
    ")\n",
    "\n",
    "obs, info = nmf.reset()\n",
    "for i in trange(target_num_steps):\n",
    "    joint_pos = data_block[:, i]\n",
    "    action = {\"joints\": joint_pos}\n",
    "    obs, reward, terminated, truncated, info = nmf.step(action)\n",
    "    nmf.render()\n",
    "\n",
    "nmf.save_video(\"./outputs/birdeye.mp4\")\n",
    "Video(\"./outputs/birdeye.mp4\")\n"
   ]
  },
  {
   "cell_type": "code",
   "execution_count": 30,
   "metadata": {},
   "outputs": [],
   "source": [
    "# should we create new obstacle area ? take a similar example from odorarena \n",
    "# should i retake the same idea from odor arena and implement it into Flatterrain class ?\n",
    "import numpy as np\n",
    "from typing import Union, Tuple, List, Optional, Callable\n",
    "\n",
    "\n",
    "class ObstacleArena(BaseArena):\n",
    "    num_sensors = 4\n",
    "\n",
    "    def __init__(\n",
    "        self,\n",
    "        terrain: BaseArena,\n",
    "        obstacle_positions: np.ndarray = np.array([(7.5, 0), (12.5, 5), (17.5, -5)]),\n",
    "        obstacle_colors: Union[np.ndarray, Tuple] = (0, 0, 0, 1),\n",
    "        obstacle_radius: float = 1,\n",
    "        obstacle_height: float = 4,\n",
    "        odor_source: np.ndarray = np.array([[25, 0, 2]]),\n",
    "        peak_intensity: np.ndarray = np.array([[1]]),\n",
    "        diffuse_func: Callable = lambda x: x**-2,\n",
    "        marker_colors: Optional[List[Tuple[float, float, float, float]]] = None,\n",
    "        marker_size: float = 0.1,\n",
    "        user_camera_settings: Optional[\n",
    "            Tuple[Tuple[float, float, float], Tuple[float, float, float], float]\n",
    "        ] = None,\n",
    "    ):\n",
    "        self.terrain_arena = terrain\n",
    "        self.obstacle_positions = obstacle_positions\n",
    "        self.root_element = terrain.root_element\n",
    "        self.friction = terrain.friction\n",
    "        self.obstacle_radius = obstacle_radius\n",
    "        z_offset = terrain.get_spawn_position(np.zeros(3), np.zeros(3))[0][2]\n",
    "        obstacle_colors = np.array(obstacle_colors)\n",
    "        if obstacle_colors.shape == (4,):\n",
    "            obstacle_colors = np.array(\n",
    "                [obstacle_colors for _ in range(obstacle_positions.shape[0])]\n",
    "            )\n",
    "        else:\n",
    "            assert obstacle_colors.shape == (obstacle_positions.shape[0], 4)\n",
    "\n",
    "        self.odor_source = np.array(odor_source)\n",
    "        self.peak_odor_intensity = np.array(peak_intensity)\n",
    "        self.num_odor_sources = self.odor_source.shape[0]\n",
    "        if self.odor_source.shape[0] != self.peak_odor_intensity.shape[0]:\n",
    "            raise ValueError(\n",
    "                \"Number of odor source locations and peak intensities must match.\"\n",
    "            )\n",
    "        self.odor_dim = self.peak_odor_intensity.shape[1]\n",
    "        self.diffuse_func = diffuse_func\n",
    "\n",
    "        # Add markers at the odor sources\n",
    "        if marker_colors is None:\n",
    "            rgb = np.array([255, 127, 14]) / 255\n",
    "            marker_colors = [(*rgb, 1)] * self.num_odor_sources\n",
    "            num_odor_sources = self.odor_source.shape[0]\n",
    "        self.marker_colors = marker_colors\n",
    "        self._odor_marker_geoms = []\n",
    "        for i, (pos, rgba) in enumerate(zip(self.odor_source, marker_colors)):\n",
    "            pos = list(pos)\n",
    "            pos[2] += z_offset\n",
    "            marker_body = self.root_element.worldbody.add(\n",
    "                \"body\", name=f\"odor_source_marker_{i}\", pos=pos, mocap=True\n",
    "            )\n",
    "            geom = marker_body.add(\n",
    "                \"geom\", type=\"capsule\", size=(marker_size, marker_size), rgba=rgba\n",
    "            )\n",
    "            self._odor_marker_geoms.append(geom)\n",
    "\n",
    "        # Reshape odor source and peak intensity arrays to simplify future claculations\n",
    "        _odor_source_repeated = self.odor_source[:, np.newaxis, np.newaxis, :]\n",
    "        _odor_source_repeated = np.repeat(_odor_source_repeated, self.odor_dim, axis=1)\n",
    "        _odor_source_repeated = np.repeat(\n",
    "            _odor_source_repeated, self.num_sensors, axis=2\n",
    "        )\n",
    "        self._odor_source_repeated = _odor_source_repeated\n",
    "        _peak_intensity_repeated = self.peak_odor_intensity[:, :, np.newaxis]\n",
    "        _peak_intensity_repeated = np.repeat(\n",
    "            _peak_intensity_repeated, self.num_sensors, axis=2\n",
    "        )\n",
    "        self._peak_intensity_repeated = _peak_intensity_repeated\n",
    "\n",
    "        # Add obstacles\n",
    "        self.obstacle_bodies = []\n",
    "        obstacle_material = self.root_element.asset.add(\n",
    "            \"material\", name=\"obstacle\", reflectance=0.1\n",
    "        )\n",
    "        self.obstacle_z_pos = z_offset + obstacle_height / 2\n",
    "        for i in range(obstacle_positions.shape[0]):\n",
    "            obstacle_pos = [*obstacle_positions[i, :], self.obstacle_z_pos]\n",
    "            obstacle_color = obstacle_colors[i]\n",
    "            obstacle_body = self.root_element.worldbody.add(\n",
    "                \"body\", name=f\"obstacle_{i}\", mocap=True, pos=obstacle_pos\n",
    "            )\n",
    "            self.obstacle_bodies.append(obstacle_body)\n",
    "            obstacle_body.add(\n",
    "                \"geom\",\n",
    "                type=\"cylinder\",\n",
    "                size=(obstacle_radius, obstacle_height / 2),\n",
    "                rgba=obstacle_color,\n",
    "                material=obstacle_material,\n",
    "            )\n",
    "\n",
    "        # Add monitor cameras\n",
    "        self.side_cam = self.root_element.worldbody.add(\n",
    "            \"camera\",\n",
    "            name=\"side_cam\",\n",
    "            mode=\"fixed\",\n",
    "            pos=(odor_source[0, 0] / 2, -25, 10),\n",
    "            euler=(np.deg2rad(75), 0, 0),\n",
    "            fovy=50,\n",
    "        )\n",
    "        self.back_cam = self.root_element.worldbody.add(\n",
    "            \"camera\",\n",
    "            name=\"back_cam\",\n",
    "            mode=\"fixed\",\n",
    "            pos=(-9, 0, 7),\n",
    "            euler=(np.deg2rad(60), 0, -np.deg2rad(90)),\n",
    "            fovy=55,\n",
    "        )\n",
    "        self.birdeye_cam = self.root_element.worldbody.add(\n",
    "            \"camera\",\n",
    "            name=\"birdeye_cam\",\n",
    "            mode=\"fixed\",\n",
    "            pos=(7.5, 0, 25),\n",
    "            euler=(0, 0, 0),\n",
    "            fovy=45,\n",
    "        )\n",
    "        self.birdeye_cam_origin = self.root_element.worldbody.add(\n",
    "            \"camera\",\n",
    "            name=\"birdeye_cam_origin\",\n",
    "            mode=\"fixed\",\n",
    "            pos=(0, 0, 40),\n",
    "            euler=(0, 0, 0),\n",
    "            fovy=50,\n",
    "        )\n",
    "        if user_camera_settings is not None:\n",
    "            cam_pos, cam_euler, cam_fovy = user_camera_settings\n",
    "            self.root_element.worldbody.add(\n",
    "                \"camera\",\n",
    "                name=\"user_cam\",\n",
    "                mode=\"fixed\",\n",
    "                pos=cam_pos,\n",
    "                euler=cam_euler,\n",
    "                fovy=cam_fovy,\n",
    "            )\n",
    "\n",
    "    def get_spawn_position(\n",
    "        self, rel_pos: np.ndarray, rel_angle: np.ndarray\n",
    "    ) -> Tuple[np.ndarray, np.ndarray]:\n",
    "        return self.terrain_arena.get_spawn_position(rel_pos, rel_angle)\n",
    "\n",
    "    def get_olfaction(self, antennae_pos: np.ndarray) -> np.ndarray:\n",
    "        antennae_pos_repeated = antennae_pos[np.newaxis, np.newaxis, :, :]\n",
    "        dist_3d = antennae_pos_repeated - self._odor_source_repeated  # (n, k, w, 3)\n",
    "        dist_euc = np.linalg.norm(dist_3d, axis=3)  # (n, k, w)\n",
    "        scaling = self.diffuse_func(dist_euc)  # (n, k, w)\n",
    "        intensity = self._peak_intensity_repeated * scaling  # (n, k, w)\n",
    "        return intensity.sum(axis=0)  # (k, w)\n",
    "\n",
    "    def pre_visual_render_hook(self, physics):\n",
    "        for geom, rgba in zip(self._odor_marker_geoms, self.marker_colors):\n",
    "            physics.bind(geom).rgba = np.array([*rgba[:3], 0])\n",
    "\n",
    "    def post_visual_render_hook(self, physics):\n",
    "        for geom, rgba in zip(self._odor_marker_geoms, self.marker_colors):\n",
    "            physics.bind(geom).rgba = np.array([*rgba[:3], 1])\n"
   ]
  },
  {
   "cell_type": "code",
   "execution_count": 32,
   "metadata": {},
   "outputs": [
    {
     "ename": "Error",
     "evalue": "Object of type 'camera' with name 'birdeye_cam' does not exist.",
     "output_type": "error",
     "traceback": [
      "\u001b[1;31m---------------------------------------------------------------------------\u001b[0m",
      "\u001b[1;31mError\u001b[0m                                     Traceback (most recent call last)",
      "Cell \u001b[1;32mIn[32], line 23\u001b[0m\n\u001b[0;32m      1\u001b[0m sim_params \u001b[38;5;241m=\u001b[39m flygym\u001b[38;5;241m.\u001b[39mmujoco\u001b[38;5;241m.\u001b[39mParameters(\n\u001b[0;32m      2\u001b[0m     timestep\u001b[38;5;241m=\u001b[39m\u001b[38;5;241m1e-4\u001b[39m,\n\u001b[0;32m      3\u001b[0m     render_mode\u001b[38;5;241m=\u001b[39m\u001b[38;5;124m\"\u001b[39m\u001b[38;5;124msaved\u001b[39m\u001b[38;5;124m\"\u001b[39m,\n\u001b[1;32m   (...)\u001b[0m\n\u001b[0;32m     10\u001b[0m     \u001b[38;5;66;03m# =========================================================================\u001b[39;00m\n\u001b[0;32m     11\u001b[0m )\n\u001b[0;32m     13\u001b[0m arena \u001b[38;5;241m=\u001b[39m FlatTerrain(\n\u001b[0;32m     14\u001b[0m     \u001b[38;5;66;03m# =========================================================================\u001b[39;00m\n\u001b[0;32m     15\u001b[0m     \u001b[38;5;66;03m# TODO: add 5 scales bars to the arena\u001b[39;00m\n\u001b[1;32m   (...)\u001b[0m\n\u001b[0;32m     20\u001b[0m     \u001b[38;5;66;03m# =========================================================================\u001b[39;00m\n\u001b[0;32m     21\u001b[0m )\n\u001b[1;32m---> 23\u001b[0m nmf \u001b[38;5;241m=\u001b[39m \u001b[43mflygym\u001b[49m\u001b[38;5;241;43m.\u001b[39;49m\u001b[43mmujoco\u001b[49m\u001b[38;5;241;43m.\u001b[39;49m\u001b[43mNeuroMechFly\u001b[49m\u001b[43m(\u001b[49m\n\u001b[0;32m     24\u001b[0m \u001b[43m    \u001b[49m\u001b[43msim_params\u001b[49m\u001b[38;5;241;43m=\u001b[39;49m\u001b[43msim_params\u001b[49m\u001b[43m,\u001b[49m\n\u001b[0;32m     25\u001b[0m \u001b[43m    \u001b[49m\u001b[43minit_pose\u001b[49m\u001b[38;5;241;43m=\u001b[39;49m\u001b[38;5;124;43m\"\u001b[39;49m\u001b[38;5;124;43mstretch\u001b[39;49m\u001b[38;5;124;43m\"\u001b[39;49m\u001b[43m,\u001b[49m\n\u001b[0;32m     26\u001b[0m \u001b[43m    \u001b[49m\u001b[43mactuated_joints\u001b[49m\u001b[38;5;241;43m=\u001b[39;49m\u001b[43mactuated_joints\u001b[49m\u001b[43m,\u001b[49m\n\u001b[0;32m     27\u001b[0m \u001b[43m    \u001b[49m\u001b[43mcontrol\u001b[49m\u001b[38;5;241;43m=\u001b[39;49m\u001b[38;5;124;43m\"\u001b[39;49m\u001b[38;5;124;43mposition\u001b[39;49m\u001b[38;5;124;43m\"\u001b[39;49m\u001b[43m,\u001b[49m\n\u001b[0;32m     28\u001b[0m \u001b[43m    \u001b[49m\u001b[43marena\u001b[49m\u001b[38;5;241;43m=\u001b[39;49m\u001b[43marena\u001b[49m\u001b[43m,\u001b[49m\n\u001b[0;32m     29\u001b[0m \u001b[43m    \u001b[49m\u001b[38;5;66;43;03m# spawn_pos=(0, 0, 0.2),\u001b[39;49;00m\n\u001b[0;32m     30\u001b[0m \u001b[43m)\u001b[49m\n\u001b[0;32m     32\u001b[0m obs, info \u001b[38;5;241m=\u001b[39m nmf\u001b[38;5;241m.\u001b[39mreset()\n\u001b[0;32m     33\u001b[0m \u001b[38;5;28;01mfor\u001b[39;00m i \u001b[38;5;129;01min\u001b[39;00m trange(target_num_steps):\n",
      "File \u001b[1;32mc:\\users\\shuji\\flygym_miniproject\\flygym\\flygym\\mujoco\\core.py:520\u001b[0m, in \u001b[0;36mNeuroMechFly.__init__\u001b[1;34m(self, sim_params, actuated_joints, contact_sensor_placements, output_dir, arena, spawn_pos, spawn_orientation, control, init_pose, floor_collisions, self_collisions, detect_flip)\u001b[0m\n\u001b[0;32m    518\u001b[0m \u001b[38;5;28;01mif\u001b[39;00m \u001b[38;5;28mself\u001b[39m\u001b[38;5;241m.\u001b[39msim_params\u001b[38;5;241m.\u001b[39mdraw_contacts \u001b[38;5;129;01mor\u001b[39;00m \u001b[38;5;28mself\u001b[39m\u001b[38;5;241m.\u001b[39msim_params\u001b[38;5;241m.\u001b[39mdraw_gravity:\n\u001b[0;32m    519\u001b[0m     width, height \u001b[38;5;241m=\u001b[39m \u001b[38;5;28mself\u001b[39m\u001b[38;5;241m.\u001b[39msim_params\u001b[38;5;241m.\u001b[39mrender_window_size\n\u001b[1;32m--> 520\u001b[0m     \u001b[38;5;28mself\u001b[39m\u001b[38;5;241m.\u001b[39m_dm_camera \u001b[38;5;241m=\u001b[39m \u001b[43mdm_control\u001b[49m\u001b[38;5;241;43m.\u001b[39;49m\u001b[43mmujoco\u001b[49m\u001b[38;5;241;43m.\u001b[39;49m\u001b[43mCamera\u001b[49m\u001b[43m(\u001b[49m\n\u001b[0;32m    521\u001b[0m \u001b[43m        \u001b[49m\u001b[38;5;28;43mself\u001b[39;49m\u001b[38;5;241;43m.\u001b[39;49m\u001b[43mphysics\u001b[49m\u001b[43m,\u001b[49m\n\u001b[0;32m    522\u001b[0m \u001b[43m        \u001b[49m\u001b[43mcamera_id\u001b[49m\u001b[38;5;241;43m=\u001b[39;49m\u001b[38;5;28;43mself\u001b[39;49m\u001b[38;5;241;43m.\u001b[39;49m\u001b[43msim_params\u001b[49m\u001b[38;5;241;43m.\u001b[39;49m\u001b[43mrender_camera\u001b[49m\u001b[43m,\u001b[49m\n\u001b[0;32m    523\u001b[0m \u001b[43m        \u001b[49m\u001b[43mwidth\u001b[49m\u001b[38;5;241;43m=\u001b[39;49m\u001b[43mwidth\u001b[49m\u001b[43m,\u001b[49m\n\u001b[0;32m    524\u001b[0m \u001b[43m        \u001b[49m\u001b[43mheight\u001b[49m\u001b[38;5;241;43m=\u001b[39;49m\u001b[43mheight\u001b[49m\u001b[43m,\u001b[49m\n\u001b[0;32m    525\u001b[0m \u001b[43m    \u001b[49m\u001b[43m)\u001b[49m\n\u001b[0;32m    526\u001b[0m     \u001b[38;5;28mself\u001b[39m\u001b[38;5;241m.\u001b[39m_decompose_colors \u001b[38;5;241m=\u001b[39m [[\u001b[38;5;241m255\u001b[39m, \u001b[38;5;241m0\u001b[39m, \u001b[38;5;241m0\u001b[39m], [\u001b[38;5;241m0\u001b[39m, \u001b[38;5;241m255\u001b[39m, \u001b[38;5;241m0\u001b[39m], [\u001b[38;5;241m0\u001b[39m, \u001b[38;5;241m0\u001b[39m, \u001b[38;5;241m255\u001b[39m]]\n\u001b[0;32m    528\u001b[0m \u001b[38;5;66;03m# flip detection\u001b[39;00m\n",
      "File \u001b[1;32mc:\\Users\\shuji\\.conda\\envs\\flygymproject\\Lib\\site-packages\\dm_control\\mujoco\\engine.py:674\u001b[0m, in \u001b[0;36mCamera.__init__\u001b[1;34m(self, physics, height, width, camera_id, max_geom, scene_callback)\u001b[0m\n\u001b[0;32m    667\u001b[0m   \u001b[38;5;28;01mraise\u001b[39;00m \u001b[38;5;167;01mValueError\u001b[39;00m(\u001b[38;5;124m'\u001b[39m\u001b[38;5;124mImage height \u001b[39m\u001b[38;5;132;01m{}\u001b[39;00m\u001b[38;5;124m > framebuffer height \u001b[39m\u001b[38;5;132;01m{}\u001b[39;00m\u001b[38;5;124m. Either reduce \u001b[39m\u001b[38;5;124m'\u001b[39m\n\u001b[0;32m    668\u001b[0m                    \u001b[38;5;124m'\u001b[39m\u001b[38;5;124mthe image height or specify a larger offscreen \u001b[39m\u001b[38;5;124m'\u001b[39m\n\u001b[0;32m    669\u001b[0m                    \u001b[38;5;124m'\u001b[39m\u001b[38;5;124mframebuffer in the model XML using the clause\u001b[39m\u001b[38;5;130;01m\\n\u001b[39;00m\u001b[38;5;124m'\u001b[39m\n\u001b[0;32m    670\u001b[0m                    \u001b[38;5;124m'\u001b[39m\u001b[38;5;124m<visual>\u001b[39m\u001b[38;5;130;01m\\n\u001b[39;00m\u001b[38;5;124m'\u001b[39m\n\u001b[0;32m    671\u001b[0m                    \u001b[38;5;124m'\u001b[39m\u001b[38;5;124m  <global offheight=\u001b[39m\u001b[38;5;124m\"\u001b[39m\u001b[38;5;124mmy_height\u001b[39m\u001b[38;5;124m\"\u001b[39m\u001b[38;5;124m/>\u001b[39m\u001b[38;5;130;01m\\n\u001b[39;00m\u001b[38;5;124m'\u001b[39m\n\u001b[0;32m    672\u001b[0m                    \u001b[38;5;124m'\u001b[39m\u001b[38;5;124m</visual>\u001b[39m\u001b[38;5;124m'\u001b[39m\u001b[38;5;241m.\u001b[39mformat(height, buffer_height))\n\u001b[0;32m    673\u001b[0m \u001b[38;5;28;01mif\u001b[39;00m \u001b[38;5;28misinstance\u001b[39m(camera_id, \u001b[38;5;28mstr\u001b[39m):\n\u001b[1;32m--> 674\u001b[0m   camera_id \u001b[38;5;241m=\u001b[39m \u001b[43mphysics\u001b[49m\u001b[38;5;241;43m.\u001b[39;49m\u001b[43mmodel\u001b[49m\u001b[38;5;241;43m.\u001b[39;49m\u001b[43mname2id\u001b[49m\u001b[43m(\u001b[49m\u001b[43mcamera_id\u001b[49m\u001b[43m,\u001b[49m\u001b[43m \u001b[49m\u001b[38;5;124;43m'\u001b[39;49m\u001b[38;5;124;43mcamera\u001b[39;49m\u001b[38;5;124;43m'\u001b[39;49m\u001b[43m)\u001b[49m\n\u001b[0;32m    675\u001b[0m \u001b[38;5;28;01mif\u001b[39;00m camera_id \u001b[38;5;241m<\u001b[39m \u001b[38;5;241m-\u001b[39m\u001b[38;5;241m1\u001b[39m:\n\u001b[0;32m    676\u001b[0m   \u001b[38;5;28;01mraise\u001b[39;00m \u001b[38;5;167;01mValueError\u001b[39;00m(\u001b[38;5;124m'\u001b[39m\u001b[38;5;124mcamera_id cannot be smaller than -1.\u001b[39m\u001b[38;5;124m'\u001b[39m)\n",
      "File \u001b[1;32mc:\\Users\\shuji\\.conda\\envs\\flygymproject\\Lib\\site-packages\\dm_control\\mujoco\\wrapper\\core.py:358\u001b[0m, in \u001b[0;36mMjModel.name2id\u001b[1;34m(self, name, object_type)\u001b[0m\n\u001b[0;32m    356\u001b[0m obj_id \u001b[38;5;241m=\u001b[39m mujoco\u001b[38;5;241m.\u001b[39mmj_name2id(\u001b[38;5;28mself\u001b[39m\u001b[38;5;241m.\u001b[39mptr, object_type, name)\n\u001b[0;32m    357\u001b[0m \u001b[38;5;28;01mif\u001b[39;00m obj_id \u001b[38;5;241m==\u001b[39m \u001b[38;5;241m-\u001b[39m\u001b[38;5;241m1\u001b[39m:\n\u001b[1;32m--> 358\u001b[0m   \u001b[38;5;28;01mraise\u001b[39;00m Error(\u001b[38;5;124m\"\u001b[39m\u001b[38;5;124mObject of type \u001b[39m\u001b[38;5;132;01m{!r}\u001b[39;00m\u001b[38;5;124m with name \u001b[39m\u001b[38;5;132;01m{!r}\u001b[39;00m\u001b[38;5;124m does not exist.\u001b[39m\u001b[38;5;124m\"\u001b[39m\u001b[38;5;241m.\u001b[39mformat(\n\u001b[0;32m    359\u001b[0m       _type2str(object_type), name))\n\u001b[0;32m    360\u001b[0m \u001b[38;5;28;01mreturn\u001b[39;00m obj_id\n",
      "\u001b[1;31mError\u001b[0m: Object of type 'camera' with name 'birdeye_cam' does not exist."
     ]
    }
   ],
   "source": [
    "sim_params = flygym.mujoco.Parameters(\n",
    "    timestep=1e-4,\n",
    "    render_mode=\"saved\",\n",
    "    render_playspeed=0.2,\n",
    "    draw_contacts=True,\n",
    "    render_camera=\"birdeye_cam\",\n",
    "\n",
    "    # =========================================================================\n",
    "    # TODO:\n",
    "    # =========================================================================\n",
    ")\n",
    "\n",
    "arena = FlatTerrain(\n",
    "    # =========================================================================\n",
    "    # TODO: add 5 scales bars to the arena\n",
    "    \n",
    "    scale_bar_pos= (2.5, 2.5, 1)\n",
    "    # scale_bar_pos=[(1, 1,0.5),(1, 2,0.5), (1, 3,0.5), (1, 4,5), (1, 5,5)]\n",
    "\n",
    "    # =========================================================================\n",
    ")\n",
    "\n",
    "nmf = flygym.mujoco.NeuroMechFly(\n",
    "    sim_params=sim_params,\n",
    "    init_pose=\"stretch\",\n",
    "    actuated_joints=actuated_joints,\n",
    "    control=\"position\",\n",
    "    arena=arena,\n",
    "    # spawn_pos=(0, 0, 0.2),\n",
    ")\n",
    "\n",
    "obs, info = nmf.reset()\n",
    "for i in trange(target_num_steps):\n",
    "    joint_pos = data_block[:, i]\n",
    "    action = {\"joints\": joint_pos}\n",
    "    obs, reward, terminated, truncated, info = nmf.step(action)\n",
    "    nmf.render()\n",
    "\n",
    "nmf.save_video(\"./outputs/birdeye.mp4\")\n",
    "Video(\"./outputs/birdeye.mp4\")\n"
   ]
  },
  {
   "cell_type": "code",
   "execution_count": 38,
   "metadata": {},
   "outputs": [],
   "source": [
    "from flygym.mujoco.arena import OdorArena\n",
    "\n",
    "import numpy as np\n",
    "\n",
    "# random state seed for reproducibility\n",
    "seed = 1\n",
    "\n",
    "# Odor source: array of shape (num_odor_sources, 3) - xyz coords of odor sources\n",
    "odor_source = np.array([[24, 0, 1.5], [8, -4, 1.5], [16, 4, 1.5]])\n",
    "\n",
    "# Peak intensities: array of shape (num_odor_sources, odor_dimensions)\n",
    "# For each odor source, if the intensity is (x, 0) then the odor is in the 1st dimension\n",
    "# (in this case attractive). If it's (0, x) then it's in the 2nd dimension (in this case\n",
    "# aversive)\n",
    "peak_odor_intensity = np.array([[1, 0], [0, 1], [0, 1]])\n",
    "\n",
    "# Marker colors: array of shape (num_odor_sources, 4) - RGBA values for each marker,\n",
    "# normalized to [0, 1]\n",
    "marker_colors = [[255, 127, 14], [31, 119, 180], [31, 119, 180]]\n",
    "marker_colors = np.array([[*np.array(color) / 255, 1] for color in marker_colors])\n",
    "\n",
    "odor_dimensions = len(peak_odor_intensity[0])\n",
    "\n",
    "arena = OdorArena(\n",
    "    odor_source=odor_source,\n",
    "    peak_intensity=peak_odor_intensity,\n",
    "    diffuse_func=lambda x: x**-2,\n",
    "    marker_colors=marker_colors,\n",
    "    marker_size=0.3,\n",
    ")"
   ]
  },
  {
   "cell_type": "code",
   "execution_count": 39,
   "metadata": {},
   "outputs": [
    {
     "data": {
      "image/png": "[encoded data removed]",
      "text/plain": [
       "<Figure size 500x400 with 1 Axes>"
      ]
     },
     "metadata": {},
     "output_type": "display_data"
    }
   ],
   "source": [
    "from pathlib import Path\n",
    "import matplotlib.pyplot as plt\n",
    "from flygym.mujoco import Parameters\n",
    "from flygym.mujoco.examples.turning_controller import HybridTurningNMF\n",
    "\n",
    "\n",
    "Path(\"./outputs\").mkdir(exist_ok=True)\n",
    "\n",
    "\n",
    "contact_sensor_placements = [\n",
    "    f\"{leg}{segment}\"\n",
    "    for leg in [\"LF\", \"LM\", \"LH\", \"RF\", \"RM\", \"RH\"]\n",
    "    for segment in [\"Tibia\", \"Tarsus1\", \"Tarsus2\", \"Tarsus3\", \"Tarsus4\", \"Tarsus5\"]\n",
    "]\n",
    "sim_params = Parameters(\n",
    "    timestep=1e-4,\n",
    "    render_mode=\"saved\",\n",
    "    render_playspeed=0.5,\n",
    "    render_window_size=(800, 608),\n",
    "    enable_olfaction=True,\n",
    "    enable_adhesion=True,\n",
    "    draw_adhesion=False,\n",
    "    render_camera=\"birdeye_cam\",\n",
    ")\n",
    "sim = HybridTurningNMF(\n",
    "    sim_params=sim_params,\n",
    "    arena=arena,\n",
    "    spawn_pos=(0, 0, 0.2),\n",
    "    contact_sensor_placements=contact_sensor_placements,\n",
    ")\n",
    "for i in range(500):\n",
    "    sim.step(np.zeros(2))\n",
    "    sim.render()\n",
    "fig, ax = plt.subplots(1, 1, figsize=(5, 4), tight_layout=True)\n",
    "ax.imshow(sim._frames[-1])\n",
    "ax.axis(\"off\")\n",
    "fig.savefig(\"./outputs/olfaction_env.png\")"
   ]
  },
  {
   "cell_type": "code",
   "execution_count": null,
   "metadata": {},
   "outputs": [],
   "source": []
  }
 ],
 "metadata": {
  "kernelspec": {
   "display_name": "flygymproject",
   "language": "python",
   "name": "python3"
  },
  "language_info": {
   "codemirror_mode": {
    "name": "ipython",
    "version": 3
   },
   "file_extension": ".py",
   "mimetype": "text/x-python",
   "name": "python",
   "nbconvert_exporter": "python",
   "pygments_lexer": "ipython3",
   "version": "3.11.9"
  }
 },
 "nbformat": 4,
 "nbformat_minor": 2
}
