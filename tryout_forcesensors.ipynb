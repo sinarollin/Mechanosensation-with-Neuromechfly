{
 "cells": [
  {
   "cell_type": "code",
   "execution_count": 3,
   "metadata": {},
   "outputs": [],
   "source": [
    "import numpy as np\n",
    "import matplotlib.pyplot as plt\n",
    "from tqdm import trange\n",
    "from gymnasium import spaces\n",
    "from gymnasium.utils.env_checker import check_env\n",
    "\n",
    "from flygym.mujoco import Parameters, NeuroMechFly\n",
    "from flygym.mujoco.examples.common import PreprogrammedSteps\n",
    "from flygym.mujoco.examples.cpg_controller import CPGNetwork\n",
    "\n",
    "import flygym.mujoco"
   ]
  },
  {
   "cell_type": "code",
   "execution_count": 5,
   "metadata": {},
   "outputs": [
    {
     "data": {
      "text/plain": [
       "'\\nfor i in trange(int(run_time / nmf.sim_params.timestep)):\\n    action = np.array([0.2, 1.2])\\n    obs = nmf.step(action)[0]\\n    obs_hist.append(obs)\\n    nmf.render()'"
      ]
     },
     "execution_count": 5,
     "metadata": {},
     "output_type": "execute_result"
    }
   ],
   "source": [
    "\n",
    "run_time = 1\n",
    "timestep = 1e-4\n",
    "\n",
    "weights = {\n",
    "    \"rule1\": -10,\n",
    "    \"rule2_ipsi\": 2.5,\n",
    "    \"rule2_contra\": 1,\n",
    "    \"rule3_ipsi\": 3.0,\n",
    "    \"rule3_contra\": 2.0,\n",
    "}\n",
    "\n",
    "\n",
    "sim_params = Parameters(\n",
    "    timestep=timestep,\n",
    "    render_mode=\"saved\",\n",
    "    render_playspeed=0.1,\n",
    "    enable_adhesion=True,\n",
    "    draw_adhesion=True,\n",
    ")\n",
    "nmf = NeuroMechFly(\n",
    "    sim_params=sim_params,\n",
    "    init_pose=\"stretch\",\n",
    "    actuated_joints = flygym.mujoco.preprogrammed.all_leg_dofs,\n",
    "    control=\"position\",\n",
    ")\n",
    "\n",
    "obs, info = nmf.reset()\n",
    "\n",
    "\n",
    "\n",
    "run_time = 6\n",
    "obs, info = nmf.reset(seed=0)\n",
    "obs_hist = []\n",
    "\n",
    "\n",
    "'''\n",
    "for i in trange(int(run_time / nmf.sim_params.timestep)):\n",
    "    action = np.array([0.2, 1.2])\n",
    "    obs = nmf.step(action)[0]\n",
    "    obs_hist.append(obs)\n",
    "    nmf.render()'''"
   ]
  },
  {
   "cell_type": "code",
   "execution_count": 12,
   "metadata": {},
   "outputs": [],
   "source": [
    "#nmf = NeuroMechFly(sim_params=Parameters(),controller=CPGNetwork(), preprogrammed_steps=PreprogrammedSteps(),visualize=True)\n",
    "\n",
    "sim_params = Parameters(\n",
    "    timestep=timestep,\n",
    "    render_mode=\"saved\",\n",
    "    render_playspeed=0.1,\n",
    "    enable_adhesion=True,\n",
    "    draw_adhesion=True,\n",
    ")\n",
    "nmf = NeuroMechFly(\n",
    "    sim_params=sim_params,\n",
    "    init_pose=\"stretch\",\n",
    "    actuated_joints = flygym.mujoco.preprogrammed.all_leg_dofs,\n",
    "    control=\"position\",\n",
    ")\n",
    "\n",
    "nmf = NeuroMechFly()\n"
   ]
  },
  {
   "cell_type": "code",
   "execution_count": 13,
   "metadata": {},
   "outputs": [],
   "source": [
    "sensory_feedback = np.array([obs[\"contact forces\"][2, 0] for obs in obs_hist])"
   ]
  },
  {
   "cell_type": "code",
   "execution_count": 14,
   "metadata": {},
   "outputs": [
    {
     "name": "stdout",
     "output_type": "stream",
     "text": [
      "[]\n"
     ]
    }
   ],
   "source": [
    "print(sensory_feedback)"
   ]
  },
  {
   "cell_type": "code",
   "execution_count": 15,
   "metadata": {},
   "outputs": [
    {
     "name": "stderr",
     "output_type": "stream",
     "text": [
      "  0%|          | 0/60000 [00:00<?, ?it/s]\n"
     ]
    },
    {
     "ename": "IndexError",
     "evalue": "only integers, slices (`:`), ellipsis (`...`), numpy.newaxis (`None`) and integer or boolean arrays are valid indices",
     "output_type": "error",
     "traceback": [
      "\u001b[0;31m---------------------------------------------------------------------------\u001b[0m",
      "\u001b[0;31mIndexError\u001b[0m                                Traceback (most recent call last)",
      "Cell \u001b[0;32mIn[15], line 11\u001b[0m\n\u001b[1;32m      8\u001b[0m \u001b[38;5;28;01mfor\u001b[39;00m i \u001b[38;5;129;01min\u001b[39;00m trange(\u001b[38;5;28mint\u001b[39m(run_time \u001b[38;5;241m/\u001b[39m nmf\u001b[38;5;241m.\u001b[39msim_params\u001b[38;5;241m.\u001b[39mtimestep)):\n\u001b[1;32m      9\u001b[0m     \u001b[38;5;66;03m# Set both elements of action to the same value for straight walking\u001b[39;00m\n\u001b[1;32m     10\u001b[0m     action \u001b[38;5;241m=\u001b[39m np\u001b[38;5;241m.\u001b[39marray([\u001b[38;5;241m1.0\u001b[39m, \u001b[38;5;241m1.0\u001b[39m])  \u001b[38;5;66;03m# Adjust these values as needed\u001b[39;00m\n\u001b[0;32m---> 11\u001b[0m     obs \u001b[38;5;241m=\u001b[39m \u001b[43mnmf\u001b[49m\u001b[38;5;241;43m.\u001b[39;49m\u001b[43mstep\u001b[49m\u001b[43m(\u001b[49m\u001b[43maction\u001b[49m\u001b[43m)\u001b[49m[\u001b[38;5;241m0\u001b[39m]\n\u001b[1;32m     12\u001b[0m     obs_hist\u001b[38;5;241m.\u001b[39mappend(obs)\n\u001b[1;32m     13\u001b[0m     nmf\u001b[38;5;241m.\u001b[39mrender()\n",
      "File \u001b[0;32m~/Desktop/-/MA/MA1/Controlling behaviour_in_animals_and_robots/Exercices/flygym/flygym/mujoco/core.py:1275\u001b[0m, in \u001b[0;36mNeuroMechFly.step\u001b[0;34m(self, action)\u001b[0m\n\u001b[1;32m   1246\u001b[0m \u001b[38;5;250m\u001b[39m\u001b[38;5;124;03m\"\"\"Step the Gym environment.\u001b[39;00m\n\u001b[1;32m   1247\u001b[0m \n\u001b[1;32m   1248\u001b[0m \u001b[38;5;124;03mParameters\u001b[39;00m\n\u001b[0;32m   (...)\u001b[0m\n\u001b[1;32m   1272\u001b[0m \u001b[38;5;124;03m    additional information.\u001b[39;00m\n\u001b[1;32m   1273\u001b[0m \u001b[38;5;124;03m\"\"\"\u001b[39;00m\n\u001b[1;32m   1274\u001b[0m \u001b[38;5;28mself\u001b[39m\u001b[38;5;241m.\u001b[39marena\u001b[38;5;241m.\u001b[39mstep(dt\u001b[38;5;241m=\u001b[39m\u001b[38;5;28mself\u001b[39m\u001b[38;5;241m.\u001b[39mtimestep, physics\u001b[38;5;241m=\u001b[39m\u001b[38;5;28mself\u001b[39m\u001b[38;5;241m.\u001b[39mphysics)\n\u001b[0;32m-> 1275\u001b[0m \u001b[38;5;28mself\u001b[39m\u001b[38;5;241m.\u001b[39mphysics\u001b[38;5;241m.\u001b[39mbind(\u001b[38;5;28mself\u001b[39m\u001b[38;5;241m.\u001b[39m_actuators)\u001b[38;5;241m.\u001b[39mctrl \u001b[38;5;241m=\u001b[39m \u001b[43maction\u001b[49m\u001b[43m[\u001b[49m\u001b[38;5;124;43m\"\u001b[39;49m\u001b[38;5;124;43mjoints\u001b[39;49m\u001b[38;5;124;43m\"\u001b[39;49m\u001b[43m]\u001b[49m\n\u001b[1;32m   1276\u001b[0m \u001b[38;5;28;01mif\u001b[39;00m \u001b[38;5;28mself\u001b[39m\u001b[38;5;241m.\u001b[39msim_params\u001b[38;5;241m.\u001b[39menable_adhesion:\n\u001b[1;32m   1277\u001b[0m     \u001b[38;5;28mself\u001b[39m\u001b[38;5;241m.\u001b[39mphysics\u001b[38;5;241m.\u001b[39mbind(\u001b[38;5;28mself\u001b[39m\u001b[38;5;241m.\u001b[39m_adhesion_actuators)\u001b[38;5;241m.\u001b[39mctrl \u001b[38;5;241m=\u001b[39m action[\u001b[38;5;124m\"\u001b[39m\u001b[38;5;124madhesion\u001b[39m\u001b[38;5;124m\"\u001b[39m]\n",
      "\u001b[0;31mIndexError\u001b[0m: only integers, slices (`:`), ellipsis (`...`), numpy.newaxis (`None`) and integer or boolean arrays are valid indices"
     ]
    }
   ],
   "source": [
    "\n",
    "#get into how to access the parameters and which ones are necessary\n",
    "\n",
    "\n",
    "run_time = 6\n",
    "obs, info = nmf.reset(seed=0)\n",
    "obs_hist = []\n",
    "\n",
    "for i in trange(int(run_time / nmf.sim_params.timestep)):\n",
    "    # Set both elements of action to the same value for straight walking\n",
    "    action = 'contact forces': np. concatenate(sensory_feedback)\n",
    "    obs = nmf.step(action)[0]\n",
    "    obs_hist.append(obs)\n",
    "    nmf.render()\n",
    "\n",
    "nmf.save_video(\"./outputs/turning_6s.mp4\")\n",
    "Video(\"./outputs/turning_6s.mp4\")"
   ]
  },
  {
   "cell_type": "code",
   "execution_count": null,
   "metadata": {},
   "outputs": [],
   "source": []
  },
  {
   "cell_type": "code",
   "execution_count": null,
   "metadata": {},
   "outputs": [],
   "source": [
    "sensory_feedback = np.array([obs[\"contact forces\"][2, 0] for obs in obs_hist])"
   ]
  },
  {
   "cell_type": "code",
   "execution_count": null,
   "metadata": {},
   "outputs": [],
   "source": []
  }
 ],
 "metadata": {
  "kernelspec": {
   "display_name": "flygym",
   "language": "python",
   "name": "python3"
  },
  "language_info": {
   "codemirror_mode": {
    "name": "ipython",
    "version": 3
   },
   "file_extension": ".py",
   "mimetype": "text/x-python",
   "name": "python",
   "nbconvert_exporter": "python",
   "pygments_lexer": "ipython3",
   "version": "3.11.7"
  }
 },
 "nbformat": 4,
 "nbformat_minor": 2
}
